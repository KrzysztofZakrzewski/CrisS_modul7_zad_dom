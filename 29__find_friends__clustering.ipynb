{
 "cells": [
  {
   "cell_type": "markdown",
   "metadata": {},
   "source": [
    "# Tworzymy model do klastrowania danych z ankiety powitalnej"
   ]
  },
  {
   "cell_type": "code",
   "execution_count": 1,
   "metadata": {},
   "outputs": [],
   "source": [
    "import pandas as pd\n",
    "from pycaret.clustering import setup, create_model, assign_model, plot_model, save_model, load_model, predict_model"
   ]
  },
  {
   "cell_type": "code",
   "execution_count": 2,
   "metadata": {},
   "outputs": [
    {
     "data": {
      "text/html": [
       "<div>\n",
       "<style scoped>\n",
       "    .dataframe tbody tr th:only-of-type {\n",
       "        vertical-align: middle;\n",
       "    }\n",
       "\n",
       "    .dataframe tbody tr th {\n",
       "        vertical-align: top;\n",
       "    }\n",
       "\n",
       "    .dataframe thead th {\n",
       "        text-align: right;\n",
       "    }\n",
       "</style>\n",
       "<table border=\"1\" class=\"dataframe\">\n",
       "  <thead>\n",
       "    <tr style=\"text-align: right;\">\n",
       "      <th></th>\n",
       "      <th>age</th>\n",
       "      <th>edu_level</th>\n",
       "      <th>fav_animals</th>\n",
       "      <th>fav_place</th>\n",
       "      <th>gender</th>\n",
       "    </tr>\n",
       "  </thead>\n",
       "  <tbody>\n",
       "    <tr>\n",
       "      <th>0</th>\n",
       "      <td>&lt;18</td>\n",
       "      <td>Podstawowe</td>\n",
       "      <td>Brak ulubionych</td>\n",
       "      <td>NaN</td>\n",
       "      <td>Kobieta</td>\n",
       "    </tr>\n",
       "    <tr>\n",
       "      <th>1</th>\n",
       "      <td>25-34</td>\n",
       "      <td>Średnie</td>\n",
       "      <td>Psy</td>\n",
       "      <td>Nad wodą</td>\n",
       "      <td>Mężczyzna</td>\n",
       "    </tr>\n",
       "    <tr>\n",
       "      <th>2</th>\n",
       "      <td>45-54</td>\n",
       "      <td>Wyższe</td>\n",
       "      <td>Psy</td>\n",
       "      <td>W lesie</td>\n",
       "      <td>Mężczyzna</td>\n",
       "    </tr>\n",
       "    <tr>\n",
       "      <th>3</th>\n",
       "      <td>35-44</td>\n",
       "      <td>Średnie</td>\n",
       "      <td>Koty</td>\n",
       "      <td>W górach</td>\n",
       "      <td>Mężczyzna</td>\n",
       "    </tr>\n",
       "    <tr>\n",
       "      <th>4</th>\n",
       "      <td>35-44</td>\n",
       "      <td>Wyższe</td>\n",
       "      <td>Psy</td>\n",
       "      <td>Nad wodą</td>\n",
       "      <td>Mężczyzna</td>\n",
       "    </tr>\n",
       "  </tbody>\n",
       "</table>\n",
       "</div>"
      ],
      "text/plain": [
       "     age   edu_level      fav_animals fav_place     gender\n",
       "0    <18  Podstawowe  Brak ulubionych       NaN    Kobieta\n",
       "1  25-34     Średnie              Psy  Nad wodą  Mężczyzna\n",
       "2  45-54      Wyższe              Psy   W lesie  Mężczyzna\n",
       "3  35-44     Średnie             Koty  W górach  Mężczyzna\n",
       "4  35-44      Wyższe              Psy  Nad wodą  Mężczyzna"
      ]
     },
     "execution_count": 2,
     "metadata": {},
     "output_type": "execute_result"
    }
   ],
   "source": [
    "df = pd.read_csv('welcome_survey_simple_v2.csv', sep=';')\n",
    "df.head()"
   ]
  },
  {
   "cell_type": "code",
   "execution_count": 3,
   "metadata": {},
   "outputs": [
    {
     "data": {
      "text/plain": [
       "229"
      ]
     },
     "execution_count": 3,
     "metadata": {},
     "output_type": "execute_result"
    }
   ],
   "source": [
    "len(df)"
   ]
  },
  {
   "cell_type": "code",
   "execution_count": 4,
   "metadata": {},
   "outputs": [
    {
     "data": {
      "text/html": [
       "<style type=\"text/css\">\n",
       "#T_d4456_row5_col1 {\n",
       "  background-color: lightgreen;\n",
       "}\n",
       "</style>\n",
       "<table id=\"T_d4456\">\n",
       "  <thead>\n",
       "    <tr>\n",
       "      <th class=\"blank level0\" >&nbsp;</th>\n",
       "      <th id=\"T_d4456_level0_col0\" class=\"col_heading level0 col0\" >Description</th>\n",
       "      <th id=\"T_d4456_level0_col1\" class=\"col_heading level0 col1\" >Value</th>\n",
       "    </tr>\n",
       "  </thead>\n",
       "  <tbody>\n",
       "    <tr>\n",
       "      <th id=\"T_d4456_level0_row0\" class=\"row_heading level0 row0\" >0</th>\n",
       "      <td id=\"T_d4456_row0_col0\" class=\"data row0 col0\" >Session id</td>\n",
       "      <td id=\"T_d4456_row0_col1\" class=\"data row0 col1\" >123</td>\n",
       "    </tr>\n",
       "    <tr>\n",
       "      <th id=\"T_d4456_level0_row1\" class=\"row_heading level0 row1\" >1</th>\n",
       "      <td id=\"T_d4456_row1_col0\" class=\"data row1 col0\" >Original data shape</td>\n",
       "      <td id=\"T_d4456_row1_col1\" class=\"data row1 col1\" >(229, 5)</td>\n",
       "    </tr>\n",
       "    <tr>\n",
       "      <th id=\"T_d4456_level0_row2\" class=\"row_heading level0 row2\" >2</th>\n",
       "      <td id=\"T_d4456_row2_col0\" class=\"data row2 col0\" >Transformed data shape</td>\n",
       "      <td id=\"T_d4456_row2_col1\" class=\"data row2 col1\" >(229, 21)</td>\n",
       "    </tr>\n",
       "    <tr>\n",
       "      <th id=\"T_d4456_level0_row3\" class=\"row_heading level0 row3\" >3</th>\n",
       "      <td id=\"T_d4456_row3_col0\" class=\"data row3 col0\" >Categorical features</td>\n",
       "      <td id=\"T_d4456_row3_col1\" class=\"data row3 col1\" >5</td>\n",
       "    </tr>\n",
       "    <tr>\n",
       "      <th id=\"T_d4456_level0_row4\" class=\"row_heading level0 row4\" >4</th>\n",
       "      <td id=\"T_d4456_row4_col0\" class=\"data row4 col0\" >Rows with missing values</td>\n",
       "      <td id=\"T_d4456_row4_col1\" class=\"data row4 col1\" >13.1%</td>\n",
       "    </tr>\n",
       "    <tr>\n",
       "      <th id=\"T_d4456_level0_row5\" class=\"row_heading level0 row5\" >5</th>\n",
       "      <td id=\"T_d4456_row5_col0\" class=\"data row5 col0\" >Preprocess</td>\n",
       "      <td id=\"T_d4456_row5_col1\" class=\"data row5 col1\" >True</td>\n",
       "    </tr>\n",
       "    <tr>\n",
       "      <th id=\"T_d4456_level0_row6\" class=\"row_heading level0 row6\" >6</th>\n",
       "      <td id=\"T_d4456_row6_col0\" class=\"data row6 col0\" >Imputation type</td>\n",
       "      <td id=\"T_d4456_row6_col1\" class=\"data row6 col1\" >simple</td>\n",
       "    </tr>\n",
       "    <tr>\n",
       "      <th id=\"T_d4456_level0_row7\" class=\"row_heading level0 row7\" >7</th>\n",
       "      <td id=\"T_d4456_row7_col0\" class=\"data row7 col0\" >Numeric imputation</td>\n",
       "      <td id=\"T_d4456_row7_col1\" class=\"data row7 col1\" >mean</td>\n",
       "    </tr>\n",
       "    <tr>\n",
       "      <th id=\"T_d4456_level0_row8\" class=\"row_heading level0 row8\" >8</th>\n",
       "      <td id=\"T_d4456_row8_col0\" class=\"data row8 col0\" >Categorical imputation</td>\n",
       "      <td id=\"T_d4456_row8_col1\" class=\"data row8 col1\" >mode</td>\n",
       "    </tr>\n",
       "    <tr>\n",
       "      <th id=\"T_d4456_level0_row9\" class=\"row_heading level0 row9\" >9</th>\n",
       "      <td id=\"T_d4456_row9_col0\" class=\"data row9 col0\" >Maximum one-hot encoding</td>\n",
       "      <td id=\"T_d4456_row9_col1\" class=\"data row9 col1\" >-1</td>\n",
       "    </tr>\n",
       "    <tr>\n",
       "      <th id=\"T_d4456_level0_row10\" class=\"row_heading level0 row10\" >10</th>\n",
       "      <td id=\"T_d4456_row10_col0\" class=\"data row10 col0\" >Encoding method</td>\n",
       "      <td id=\"T_d4456_row10_col1\" class=\"data row10 col1\" >None</td>\n",
       "    </tr>\n",
       "    <tr>\n",
       "      <th id=\"T_d4456_level0_row11\" class=\"row_heading level0 row11\" >11</th>\n",
       "      <td id=\"T_d4456_row11_col0\" class=\"data row11 col0\" >CPU Jobs</td>\n",
       "      <td id=\"T_d4456_row11_col1\" class=\"data row11 col1\" >-1</td>\n",
       "    </tr>\n",
       "    <tr>\n",
       "      <th id=\"T_d4456_level0_row12\" class=\"row_heading level0 row12\" >12</th>\n",
       "      <td id=\"T_d4456_row12_col0\" class=\"data row12 col0\" >Use GPU</td>\n",
       "      <td id=\"T_d4456_row12_col1\" class=\"data row12 col1\" >False</td>\n",
       "    </tr>\n",
       "    <tr>\n",
       "      <th id=\"T_d4456_level0_row13\" class=\"row_heading level0 row13\" >13</th>\n",
       "      <td id=\"T_d4456_row13_col0\" class=\"data row13 col0\" >Log Experiment</td>\n",
       "      <td id=\"T_d4456_row13_col1\" class=\"data row13 col1\" >False</td>\n",
       "    </tr>\n",
       "    <tr>\n",
       "      <th id=\"T_d4456_level0_row14\" class=\"row_heading level0 row14\" >14</th>\n",
       "      <td id=\"T_d4456_row14_col0\" class=\"data row14 col0\" >Experiment Name</td>\n",
       "      <td id=\"T_d4456_row14_col1\" class=\"data row14 col1\" >cluster-default-name</td>\n",
       "    </tr>\n",
       "    <tr>\n",
       "      <th id=\"T_d4456_level0_row15\" class=\"row_heading level0 row15\" >15</th>\n",
       "      <td id=\"T_d4456_row15_col0\" class=\"data row15 col0\" >USI</td>\n",
       "      <td id=\"T_d4456_row15_col1\" class=\"data row15 col1\" >4471</td>\n",
       "    </tr>\n",
       "  </tbody>\n",
       "</table>\n"
      ],
      "text/plain": [
       "<pandas.io.formats.style.Styler at 0x175ccf25790>"
      ]
     },
     "metadata": {},
     "output_type": "display_data"
    },
    {
     "data": {
      "text/plain": [
       "<pycaret.clustering.oop.ClusteringExperiment at 0x175cd21af50>"
      ]
     },
     "execution_count": 4,
     "metadata": {},
     "output_type": "execute_result"
    }
   ],
   "source": [
    "s = setup(df, session_id=123)\n",
    "s"
   ]
  },
  {
   "cell_type": "code",
   "execution_count": 6,
   "metadata": {},
   "outputs": [
    {
     "data": {
      "text/html": [
       "<div>\n",
       "<style scoped>\n",
       "    .dataframe tbody tr th:only-of-type {\n",
       "        vertical-align: middle;\n",
       "    }\n",
       "\n",
       "    .dataframe tbody tr th {\n",
       "        vertical-align: top;\n",
       "    }\n",
       "\n",
       "    .dataframe thead th {\n",
       "        text-align: right;\n",
       "    }\n",
       "</style>\n",
       "<table border=\"1\" class=\"dataframe\">\n",
       "  <thead>\n",
       "    <tr style=\"text-align: right;\">\n",
       "      <th></th>\n",
       "      <th>age</th>\n",
       "      <th>edu_level</th>\n",
       "      <th>fav_animals</th>\n",
       "      <th>fav_place</th>\n",
       "      <th>gender</th>\n",
       "    </tr>\n",
       "  </thead>\n",
       "  <tbody>\n",
       "    <tr>\n",
       "      <th>0</th>\n",
       "      <td>&lt;18</td>\n",
       "      <td>Podstawowe</td>\n",
       "      <td>Brak ulubionych</td>\n",
       "      <td>NaN</td>\n",
       "      <td>Kobieta</td>\n",
       "    </tr>\n",
       "    <tr>\n",
       "      <th>1</th>\n",
       "      <td>25-34</td>\n",
       "      <td>Średnie</td>\n",
       "      <td>Psy</td>\n",
       "      <td>Nad wodą</td>\n",
       "      <td>Mężczyzna</td>\n",
       "    </tr>\n",
       "    <tr>\n",
       "      <th>2</th>\n",
       "      <td>45-54</td>\n",
       "      <td>Wyższe</td>\n",
       "      <td>Psy</td>\n",
       "      <td>W lesie</td>\n",
       "      <td>Mężczyzna</td>\n",
       "    </tr>\n",
       "    <tr>\n",
       "      <th>3</th>\n",
       "      <td>35-44</td>\n",
       "      <td>Średnie</td>\n",
       "      <td>Koty</td>\n",
       "      <td>W górach</td>\n",
       "      <td>Mężczyzna</td>\n",
       "    </tr>\n",
       "    <tr>\n",
       "      <th>4</th>\n",
       "      <td>35-44</td>\n",
       "      <td>Wyższe</td>\n",
       "      <td>Psy</td>\n",
       "      <td>Nad wodą</td>\n",
       "      <td>Mężczyzna</td>\n",
       "    </tr>\n",
       "  </tbody>\n",
       "</table>\n",
       "</div>"
      ],
      "text/plain": [
       "     age   edu_level      fav_animals fav_place     gender\n",
       "0    <18  Podstawowe  Brak ulubionych       NaN    Kobieta\n",
       "1  25-34     Średnie              Psy  Nad wodą  Mężczyzna\n",
       "2  45-54      Wyższe              Psy   W lesie  Mężczyzna\n",
       "3  35-44     Średnie             Koty  W górach  Mężczyzna\n",
       "4  35-44      Wyższe              Psy  Nad wodą  Mężczyzna"
      ]
     },
     "execution_count": 6,
     "metadata": {},
     "output_type": "execute_result"
    }
   ],
   "source": [
    "s.dataset.head()"
   ]
  },
  {
   "cell_type": "code",
   "execution_count": 7,
   "metadata": {},
   "outputs": [
    {
     "data": {
      "text/html": [
       "<div>\n",
       "<style scoped>\n",
       "    .dataframe tbody tr th:only-of-type {\n",
       "        vertical-align: middle;\n",
       "    }\n",
       "\n",
       "    .dataframe tbody tr th {\n",
       "        vertical-align: top;\n",
       "    }\n",
       "\n",
       "    .dataframe thead th {\n",
       "        text-align: right;\n",
       "    }\n",
       "</style>\n",
       "<table border=\"1\" class=\"dataframe\">\n",
       "  <thead>\n",
       "    <tr style=\"text-align: right;\">\n",
       "      <th></th>\n",
       "      <th>age_&lt;18</th>\n",
       "      <th>age_25-34</th>\n",
       "      <th>age_45-54</th>\n",
       "      <th>age_35-44</th>\n",
       "      <th>age_18-24</th>\n",
       "      <th>age_&gt;=65</th>\n",
       "      <th>age_55-64</th>\n",
       "      <th>age_unknown</th>\n",
       "      <th>edu_level_Podstawowe</th>\n",
       "      <th>edu_level_Średnie</th>\n",
       "      <th>...</th>\n",
       "      <th>fav_animals_Brak ulubionych</th>\n",
       "      <th>fav_animals_Psy</th>\n",
       "      <th>fav_animals_Koty</th>\n",
       "      <th>fav_animals_Inne</th>\n",
       "      <th>fav_animals_Koty i Psy</th>\n",
       "      <th>fav_place_Nad wodą</th>\n",
       "      <th>fav_place_W lesie</th>\n",
       "      <th>fav_place_W górach</th>\n",
       "      <th>fav_place_Inne</th>\n",
       "      <th>gender</th>\n",
       "    </tr>\n",
       "  </thead>\n",
       "  <tbody>\n",
       "    <tr>\n",
       "      <th>0</th>\n",
       "      <td>1.0</td>\n",
       "      <td>0.0</td>\n",
       "      <td>0.0</td>\n",
       "      <td>0.0</td>\n",
       "      <td>0.0</td>\n",
       "      <td>0.0</td>\n",
       "      <td>0.0</td>\n",
       "      <td>0.0</td>\n",
       "      <td>1.0</td>\n",
       "      <td>0.0</td>\n",
       "      <td>...</td>\n",
       "      <td>1.0</td>\n",
       "      <td>0.0</td>\n",
       "      <td>0.0</td>\n",
       "      <td>0.0</td>\n",
       "      <td>0.0</td>\n",
       "      <td>1.0</td>\n",
       "      <td>0.0</td>\n",
       "      <td>0.0</td>\n",
       "      <td>0.0</td>\n",
       "      <td>0.0</td>\n",
       "    </tr>\n",
       "    <tr>\n",
       "      <th>1</th>\n",
       "      <td>0.0</td>\n",
       "      <td>1.0</td>\n",
       "      <td>0.0</td>\n",
       "      <td>0.0</td>\n",
       "      <td>0.0</td>\n",
       "      <td>0.0</td>\n",
       "      <td>0.0</td>\n",
       "      <td>0.0</td>\n",
       "      <td>0.0</td>\n",
       "      <td>1.0</td>\n",
       "      <td>...</td>\n",
       "      <td>0.0</td>\n",
       "      <td>1.0</td>\n",
       "      <td>0.0</td>\n",
       "      <td>0.0</td>\n",
       "      <td>0.0</td>\n",
       "      <td>1.0</td>\n",
       "      <td>0.0</td>\n",
       "      <td>0.0</td>\n",
       "      <td>0.0</td>\n",
       "      <td>1.0</td>\n",
       "    </tr>\n",
       "    <tr>\n",
       "      <th>2</th>\n",
       "      <td>0.0</td>\n",
       "      <td>0.0</td>\n",
       "      <td>1.0</td>\n",
       "      <td>0.0</td>\n",
       "      <td>0.0</td>\n",
       "      <td>0.0</td>\n",
       "      <td>0.0</td>\n",
       "      <td>0.0</td>\n",
       "      <td>0.0</td>\n",
       "      <td>0.0</td>\n",
       "      <td>...</td>\n",
       "      <td>0.0</td>\n",
       "      <td>1.0</td>\n",
       "      <td>0.0</td>\n",
       "      <td>0.0</td>\n",
       "      <td>0.0</td>\n",
       "      <td>0.0</td>\n",
       "      <td>1.0</td>\n",
       "      <td>0.0</td>\n",
       "      <td>0.0</td>\n",
       "      <td>1.0</td>\n",
       "    </tr>\n",
       "    <tr>\n",
       "      <th>3</th>\n",
       "      <td>0.0</td>\n",
       "      <td>0.0</td>\n",
       "      <td>0.0</td>\n",
       "      <td>1.0</td>\n",
       "      <td>0.0</td>\n",
       "      <td>0.0</td>\n",
       "      <td>0.0</td>\n",
       "      <td>0.0</td>\n",
       "      <td>0.0</td>\n",
       "      <td>1.0</td>\n",
       "      <td>...</td>\n",
       "      <td>0.0</td>\n",
       "      <td>0.0</td>\n",
       "      <td>1.0</td>\n",
       "      <td>0.0</td>\n",
       "      <td>0.0</td>\n",
       "      <td>0.0</td>\n",
       "      <td>0.0</td>\n",
       "      <td>1.0</td>\n",
       "      <td>0.0</td>\n",
       "      <td>1.0</td>\n",
       "    </tr>\n",
       "    <tr>\n",
       "      <th>4</th>\n",
       "      <td>0.0</td>\n",
       "      <td>0.0</td>\n",
       "      <td>0.0</td>\n",
       "      <td>1.0</td>\n",
       "      <td>0.0</td>\n",
       "      <td>0.0</td>\n",
       "      <td>0.0</td>\n",
       "      <td>0.0</td>\n",
       "      <td>0.0</td>\n",
       "      <td>0.0</td>\n",
       "      <td>...</td>\n",
       "      <td>0.0</td>\n",
       "      <td>1.0</td>\n",
       "      <td>0.0</td>\n",
       "      <td>0.0</td>\n",
       "      <td>0.0</td>\n",
       "      <td>1.0</td>\n",
       "      <td>0.0</td>\n",
       "      <td>0.0</td>\n",
       "      <td>0.0</td>\n",
       "      <td>1.0</td>\n",
       "    </tr>\n",
       "  </tbody>\n",
       "</table>\n",
       "<p>5 rows × 21 columns</p>\n",
       "</div>"
      ],
      "text/plain": [
       "   age_<18  age_25-34  age_45-54  age_35-44  age_18-24  age_>=65  age_55-64  \\\n",
       "0      1.0        0.0        0.0        0.0        0.0       0.0        0.0   \n",
       "1      0.0        1.0        0.0        0.0        0.0       0.0        0.0   \n",
       "2      0.0        0.0        1.0        0.0        0.0       0.0        0.0   \n",
       "3      0.0        0.0        0.0        1.0        0.0       0.0        0.0   \n",
       "4      0.0        0.0        0.0        1.0        0.0       0.0        0.0   \n",
       "\n",
       "   age_unknown  edu_level_Podstawowe  edu_level_Średnie  ...  \\\n",
       "0          0.0                   1.0                0.0  ...   \n",
       "1          0.0                   0.0                1.0  ...   \n",
       "2          0.0                   0.0                0.0  ...   \n",
       "3          0.0                   0.0                1.0  ...   \n",
       "4          0.0                   0.0                0.0  ...   \n",
       "\n",
       "   fav_animals_Brak ulubionych  fav_animals_Psy  fav_animals_Koty  \\\n",
       "0                          1.0              0.0               0.0   \n",
       "1                          0.0              1.0               0.0   \n",
       "2                          0.0              1.0               0.0   \n",
       "3                          0.0              0.0               1.0   \n",
       "4                          0.0              1.0               0.0   \n",
       "\n",
       "   fav_animals_Inne  fav_animals_Koty i Psy  fav_place_Nad wodą  \\\n",
       "0               0.0                     0.0                 1.0   \n",
       "1               0.0                     0.0                 1.0   \n",
       "2               0.0                     0.0                 0.0   \n",
       "3               0.0                     0.0                 0.0   \n",
       "4               0.0                     0.0                 1.0   \n",
       "\n",
       "   fav_place_W lesie  fav_place_W górach  fav_place_Inne  gender  \n",
       "0                0.0                 0.0             0.0     0.0  \n",
       "1                0.0                 0.0             0.0     1.0  \n",
       "2                1.0                 0.0             0.0     1.0  \n",
       "3                0.0                 1.0             0.0     1.0  \n",
       "4                0.0                 0.0             0.0     1.0  \n",
       "\n",
       "[5 rows x 21 columns]"
      ]
     },
     "execution_count": 7,
     "metadata": {},
     "output_type": "execute_result"
    }
   ],
   "source": [
    "s.dataset_transformed.head()"
   ]
  },
  {
   "cell_type": "code",
   "execution_count": 8,
   "metadata": {},
   "outputs": [
    {
     "data": {
      "text/html": [],
      "text/plain": [
       "<IPython.core.display.HTML object>"
      ]
     },
     "metadata": {},
     "output_type": "display_data"
    },
    {
     "data": {
      "text/html": [
       "<style type=\"text/css\">\n",
       "</style>\n",
       "<table id=\"T_6707f\">\n",
       "  <thead>\n",
       "    <tr>\n",
       "      <th class=\"blank level0\" >&nbsp;</th>\n",
       "      <th id=\"T_6707f_level0_col0\" class=\"col_heading level0 col0\" >Silhouette</th>\n",
       "      <th id=\"T_6707f_level0_col1\" class=\"col_heading level0 col1\" >Calinski-Harabasz</th>\n",
       "      <th id=\"T_6707f_level0_col2\" class=\"col_heading level0 col2\" >Davies-Bouldin</th>\n",
       "      <th id=\"T_6707f_level0_col3\" class=\"col_heading level0 col3\" >Homogeneity</th>\n",
       "      <th id=\"T_6707f_level0_col4\" class=\"col_heading level0 col4\" >Rand Index</th>\n",
       "      <th id=\"T_6707f_level0_col5\" class=\"col_heading level0 col5\" >Completeness</th>\n",
       "    </tr>\n",
       "  </thead>\n",
       "  <tbody>\n",
       "    <tr>\n",
       "      <th id=\"T_6707f_level0_row0\" class=\"row_heading level0 row0\" >0</th>\n",
       "      <td id=\"T_6707f_row0_col0\" class=\"data row0 col0\" >0.1953</td>\n",
       "      <td id=\"T_6707f_row0_col1\" class=\"data row0 col1\" >25.9036</td>\n",
       "      <td id=\"T_6707f_row0_col2\" class=\"data row0 col2\" >1.8584</td>\n",
       "      <td id=\"T_6707f_row0_col3\" class=\"data row0 col3\" >0</td>\n",
       "      <td id=\"T_6707f_row0_col4\" class=\"data row0 col4\" >0</td>\n",
       "      <td id=\"T_6707f_row0_col5\" class=\"data row0 col5\" >0</td>\n",
       "    </tr>\n",
       "  </tbody>\n",
       "</table>\n"
      ],
      "text/plain": [
       "<pandas.io.formats.style.Styler at 0x175cd46a710>"
      ]
     },
     "metadata": {},
     "output_type": "display_data"
    },
    {
     "data": {
      "application/vnd.jupyter.widget-view+json": {
       "model_id": "60c32e0c22cf4b0c9184bdc167723bbe",
       "version_major": 2,
       "version_minor": 0
      },
      "text/plain": [
       "Processing:   0%|          | 0/3 [00:00<?, ?it/s]"
      ]
     },
     "metadata": {},
     "output_type": "display_data"
    }
   ],
   "source": [
    "kmeans = create_model('kmeans', num_clusters=8)"
   ]
  },
  {
   "cell_type": "code",
   "execution_count": 9,
   "metadata": {},
   "outputs": [
    {
     "data": {
      "text/html": [
       "<div>\n",
       "<style scoped>\n",
       "    .dataframe tbody tr th:only-of-type {\n",
       "        vertical-align: middle;\n",
       "    }\n",
       "\n",
       "    .dataframe tbody tr th {\n",
       "        vertical-align: top;\n",
       "    }\n",
       "\n",
       "    .dataframe thead th {\n",
       "        text-align: right;\n",
       "    }\n",
       "</style>\n",
       "<table border=\"1\" class=\"dataframe\">\n",
       "  <thead>\n",
       "    <tr style=\"text-align: right;\">\n",
       "      <th></th>\n",
       "      <th>age</th>\n",
       "      <th>edu_level</th>\n",
       "      <th>fav_animals</th>\n",
       "      <th>fav_place</th>\n",
       "      <th>gender</th>\n",
       "      <th>Cluster</th>\n",
       "    </tr>\n",
       "  </thead>\n",
       "  <tbody>\n",
       "    <tr>\n",
       "      <th>0</th>\n",
       "      <td>&lt;18</td>\n",
       "      <td>Podstawowe</td>\n",
       "      <td>Brak ulubionych</td>\n",
       "      <td>NaN</td>\n",
       "      <td>Kobieta</td>\n",
       "      <td>Cluster 5</td>\n",
       "    </tr>\n",
       "    <tr>\n",
       "      <th>1</th>\n",
       "      <td>25-34</td>\n",
       "      <td>Średnie</td>\n",
       "      <td>Psy</td>\n",
       "      <td>Nad wodą</td>\n",
       "      <td>Mężczyzna</td>\n",
       "      <td>Cluster 7</td>\n",
       "    </tr>\n",
       "    <tr>\n",
       "      <th>2</th>\n",
       "      <td>45-54</td>\n",
       "      <td>Wyższe</td>\n",
       "      <td>Psy</td>\n",
       "      <td>W lesie</td>\n",
       "      <td>Mężczyzna</td>\n",
       "      <td>Cluster 3</td>\n",
       "    </tr>\n",
       "    <tr>\n",
       "      <th>3</th>\n",
       "      <td>35-44</td>\n",
       "      <td>Średnie</td>\n",
       "      <td>Koty</td>\n",
       "      <td>W górach</td>\n",
       "      <td>Mężczyzna</td>\n",
       "      <td>Cluster 4</td>\n",
       "    </tr>\n",
       "    <tr>\n",
       "      <th>4</th>\n",
       "      <td>35-44</td>\n",
       "      <td>Wyższe</td>\n",
       "      <td>Psy</td>\n",
       "      <td>Nad wodą</td>\n",
       "      <td>Mężczyzna</td>\n",
       "      <td>Cluster 0</td>\n",
       "    </tr>\n",
       "    <tr>\n",
       "      <th>...</th>\n",
       "      <td>...</td>\n",
       "      <td>...</td>\n",
       "      <td>...</td>\n",
       "      <td>...</td>\n",
       "      <td>...</td>\n",
       "      <td>...</td>\n",
       "    </tr>\n",
       "    <tr>\n",
       "      <th>224</th>\n",
       "      <td>35-44</td>\n",
       "      <td>Wyższe</td>\n",
       "      <td>Koty</td>\n",
       "      <td>Inne</td>\n",
       "      <td>Kobieta</td>\n",
       "      <td>Cluster 2</td>\n",
       "    </tr>\n",
       "    <tr>\n",
       "      <th>225</th>\n",
       "      <td>45-54</td>\n",
       "      <td>Wyższe</td>\n",
       "      <td>Inne</td>\n",
       "      <td>W lesie</td>\n",
       "      <td>Mężczyzna</td>\n",
       "      <td>Cluster 3</td>\n",
       "    </tr>\n",
       "    <tr>\n",
       "      <th>226</th>\n",
       "      <td>25-34</td>\n",
       "      <td>Wyższe</td>\n",
       "      <td>Psy</td>\n",
       "      <td>W górach</td>\n",
       "      <td>Mężczyzna</td>\n",
       "      <td>Cluster 1</td>\n",
       "    </tr>\n",
       "    <tr>\n",
       "      <th>227</th>\n",
       "      <td>35-44</td>\n",
       "      <td>Wyższe</td>\n",
       "      <td>Brak ulubionych</td>\n",
       "      <td>W górach</td>\n",
       "      <td>Mężczyzna</td>\n",
       "      <td>Cluster 2</td>\n",
       "    </tr>\n",
       "    <tr>\n",
       "      <th>228</th>\n",
       "      <td>45-54</td>\n",
       "      <td>Wyższe</td>\n",
       "      <td>Koty</td>\n",
       "      <td>Nad wodą</td>\n",
       "      <td>Mężczyzna</td>\n",
       "      <td>Cluster 6</td>\n",
       "    </tr>\n",
       "  </tbody>\n",
       "</table>\n",
       "<p>229 rows × 6 columns</p>\n",
       "</div>"
      ],
      "text/plain": [
       "       age   edu_level      fav_animals fav_place     gender    Cluster\n",
       "0      <18  Podstawowe  Brak ulubionych       NaN    Kobieta  Cluster 5\n",
       "1    25-34     Średnie              Psy  Nad wodą  Mężczyzna  Cluster 7\n",
       "2    45-54      Wyższe              Psy   W lesie  Mężczyzna  Cluster 3\n",
       "3    35-44     Średnie             Koty  W górach  Mężczyzna  Cluster 4\n",
       "4    35-44      Wyższe              Psy  Nad wodą  Mężczyzna  Cluster 0\n",
       "..     ...         ...              ...       ...        ...        ...\n",
       "224  35-44      Wyższe             Koty      Inne    Kobieta  Cluster 2\n",
       "225  45-54      Wyższe             Inne   W lesie  Mężczyzna  Cluster 3\n",
       "226  25-34      Wyższe              Psy  W górach  Mężczyzna  Cluster 1\n",
       "227  35-44      Wyższe  Brak ulubionych  W górach  Mężczyzna  Cluster 2\n",
       "228  45-54      Wyższe             Koty  Nad wodą  Mężczyzna  Cluster 6\n",
       "\n",
       "[229 rows x 6 columns]"
      ]
     },
     "execution_count": 9,
     "metadata": {},
     "output_type": "execute_result"
    }
   ],
   "source": [
    "df_with_clusters = assign_model(kmeans)\n",
    "df_with_clusters"
   ]
  },
  {
   "cell_type": "code",
   "execution_count": 10,
   "metadata": {},
   "outputs": [
    {
     "data": {
      "text/plain": [
       "Cluster\n",
       "Cluster 0    48\n",
       "Cluster 3    38\n",
       "Cluster 1    34\n",
       "Cluster 6    33\n",
       "Cluster 4    26\n",
       "Cluster 2    23\n",
       "Cluster 7    18\n",
       "Cluster 5     9\n",
       "Name: count, dtype: int64"
      ]
     },
     "execution_count": 10,
     "metadata": {},
     "output_type": "execute_result"
    }
   ],
   "source": [
    "df_with_clusters[\"Cluster\"].value_counts()"
   ]
  },
  {
   "cell_type": "code",
   "execution_count": 13,
   "metadata": {},
   "outputs": [
    {
     "data": {
      "text/html": [],
      "text/plain": [
       "<IPython.core.display.HTML object>"
      ]
     },
     "metadata": {},
     "output_type": "display_data"
    },
    {
     "data": {
      "application/vnd.plotly.v1+json": {
       "config": {
        "plotlyServerURL": "https://plot.ly"
       },
       "data": [
        {
         "customdata": [
          [
           ">=65"
          ],
          [
           "35-44"
          ],
          [
           "35-44"
          ],
          [
           "55-64"
          ],
          [
           "35-44"
          ],
          [
           "25-34"
          ],
          [
           ">=65"
          ],
          [
           "35-44"
          ],
          [
           "25-34"
          ],
          [
           "25-34"
          ],
          [
           "35-44"
          ],
          [
           "35-44"
          ],
          [
           "35-44"
          ],
          [
           "35-44"
          ],
          [
           "25-34"
          ],
          [
           "25-34"
          ],
          [
           "55-64"
          ],
          [
           "55-64"
          ],
          [
           "35-44"
          ],
          [
           "35-44"
          ],
          [
           "35-44"
          ],
          [
           "35-44"
          ],
          [
           "55-64"
          ],
          [
           "55-64"
          ],
          [
           "35-44"
          ],
          [
           "35-44"
          ],
          [
           "35-44"
          ],
          [
           "35-44"
          ],
          [
           "unknown"
          ],
          [
           "35-44"
          ],
          [
           "35-44"
          ],
          [
           "35-44"
          ],
          [
           "35-44"
          ],
          [
           "35-44"
          ],
          [
           "35-44"
          ],
          [
           "35-44"
          ],
          [
           "35-44"
          ],
          [
           "25-34"
          ],
          [
           "25-34"
          ],
          [
           "35-44"
          ],
          [
           "35-44"
          ],
          [
           "35-44"
          ],
          [
           "35-44"
          ],
          [
           "25-34"
          ],
          [
           "35-44"
          ],
          [
           "35-44"
          ],
          [
           "35-44"
          ],
          [
           "25-34"
          ]
         ],
         "hovertemplate": "Cluster=Cluster 0<br>PCA1=%{x}<br>PCA2=%{y}<br>Feature=%{customdata[0]}<extra></extra>",
         "legendgroup": "Cluster 0",
         "marker": {
          "color": "#636efa",
          "opacity": 0.5,
          "symbol": "circle"
         },
         "mode": "markers",
         "name": "Cluster 0",
         "orientation": "v",
         "showlegend": true,
         "textposition": "top center",
         "type": "scatter",
         "visible": true,
         "x": [
          -0.7916351692743743,
          -1.0481050128502307,
          -0.9377293520910011,
          -0.8415340986348132,
          -0.9377293520910011,
          -0.6665118673102497,
          -0.7916351692743743,
          -0.9377293520910011,
          -0.1691950616781582,
          -0.0649182316332308,
          -0.4553985894049699,
          -0.4553985894049699,
          -0.9377293520910011,
          -0.9377293520910011,
          -0.6665118673102497,
          -0.7768875280694792,
          -0.8415340986348132,
          -0.8415340986348132,
          -0.9377293520910011,
          -0.44651137717321143,
          -1.0481050128502307,
          -0.9377293520910011,
          -0.8415340986348132,
          -0.8415340986348132,
          -1.0481050128502307,
          -0.5657742501641995,
          -1.0481050128502307,
          -0.9377293520910011,
          -0.9082084202214559,
          -0.5657742501641995,
          -0.336135716413982,
          -0.33003688569968015,
          -0.3361357164139818,
          -0.9377293520910008,
          -0.9377293520910011,
          -0.9377293520910011,
          -0.9377293520910017,
          -0.7768875280694792,
          -0.0649182316332308,
          -0.5657742501641995,
          -0.9377293520910011,
          -0.9377293520910011,
          -0.9377293520910011,
          -0.0649182316332308,
          -0.9377293520910011,
          -1.0481050128502307,
          -0.9377293520910011,
          -0.6665118673102497
         ],
         "xaxis": "x",
         "y": [
          0.11450506639918355,
          -0.5592598071836968,
          -0.5510649101673092,
          0.1394159294399247,
          -0.5510649101673092,
          0.1532603928951945,
          0.11450506639918355,
          -0.5510649101673092,
          0.2199246255335093,
          -0.0709011427421039,
          -0.7303852072665308,
          -0.7303852072665308,
          -0.5510649101673092,
          -0.5510649101673092,
          0.1532603928951945,
          0.14506549587880682,
          0.1394159294399247,
          0.1394159294399247,
          -0.5510649101673092,
          -0.7834213428209952,
          -0.5592598071836968,
          -0.5510649101673092,
          0.1394159294399247,
          0.1394159294399247,
          -0.5592598071836968,
          -0.7385801042829185,
          -0.5592598071836968,
          -0.5510649101673092,
          0.10895726740781589,
          -0.7385801042829185,
          -0.7752264458046075,
          -0.4762057805126066,
          -0.7752264458046076,
          -0.5510649101673092,
          -0.5510649101673092,
          -0.5510649101673092,
          -0.5510649101673091,
          0.14506549587880682,
          -0.0709011427421039,
          -0.7385801042829185,
          -0.5510649101673092,
          -0.5510649101673092,
          -0.5510649101673092,
          -0.0709011427421039,
          -0.5510649101673092,
          -0.5592598071836968,
          -0.5510649101673092,
          0.1532603928951945
         ],
         "yaxis": "y"
        },
        {
         "customdata": [
          [
           "45-54"
          ],
          [
           "25-34"
          ],
          [
           "35-44"
          ],
          [
           "35-44"
          ],
          [
           "35-44"
          ],
          [
           "35-44"
          ],
          [
           "25-34"
          ],
          [
           "45-54"
          ],
          [
           "25-34"
          ],
          [
           "25-34"
          ],
          [
           "25-34"
          ],
          [
           "45-54"
          ],
          [
           "45-54"
          ],
          [
           "25-34"
          ],
          [
           "35-44"
          ],
          [
           "25-34"
          ],
          [
           "45-54"
          ],
          [
           "45-54"
          ],
          [
           "45-54"
          ],
          [
           "45-54"
          ],
          [
           "18-24"
          ],
          [
           "25-34"
          ],
          [
           "45-54"
          ],
          [
           ">=65"
          ],
          [
           "55-64"
          ],
          [
           "35-44"
          ],
          [
           "45-54"
          ],
          [
           "35-44"
          ],
          [
           "35-44"
          ],
          [
           "45-54"
          ],
          [
           "45-54"
          ],
          [
           "45-54"
          ],
          [
           "45-54"
          ],
          [
           "45-54"
          ]
         ],
         "hovertemplate": "Cluster=Cluster 1<br>PCA1=%{x}<br>PCA2=%{y}<br>Feature=%{customdata[0]}<extra></extra>",
         "legendgroup": "Cluster 1",
         "marker": {
          "color": "#EF553B",
          "opacity": 0.5,
          "symbol": "circle"
         },
         "mode": "markers",
         "name": "Cluster 1",
         "orientation": "v",
         "showlegend": true,
         "textposition": "top center",
         "type": "scatter",
         "visible": true,
         "x": [
          0.9004776353722138,
          0.3829087164940555,
          0.11169123171330436,
          0.11169123171330436,
          0.11169123171330436,
          0.11169123171330436,
          0.272533055734826,
          0.18850833893596536,
          0.8652394791800865,
          0.8272196349428671,
          0.3829087164940555,
          0.29888399969519497,
          0.781214762381226,
          0.272533055734826,
          0.11169123171330436,
          0.3829087164940555,
          0.29888399969519497,
          0.29888399969519497,
          0.9004776353722138,
          0.1885083389359655,
          0.7855741365462587,
          0.3829087164940555,
          0.632819257384777,
          0.7020963329787425,
          0.20788648516949218,
          0.11169123171330436,
          0.781214762381226,
          0.11169123171330436,
          0.11169123171330436,
          0.29888399969519497,
          0.29888399969519497,
          0.29888399969519497,
          0.2988839996951953,
          0.1885083389359655
         ],
         "xaxis": "x",
         "y": [
          0.36838193115633566,
          0.001634500590565203,
          -0.7026908024719386,
          -0.7026908024719386,
          -0.7026908024719386,
          -0.7026908024719386,
          -0.006560396425822471,
          0.5843485697772463,
          -0.17768579650865649,
          -0.26442929264811504,
          0.001634500590565203,
          0.5925434667936341,
          0.41322316969441225,
          -0.006560396425822471,
          -0.7026908024719386,
          0.001634500590565203,
          0.5925434667936341,
          0.5925434667936341,
          0.36838193115633566,
          0.5843485697772464,
          -0.3097313718041059,
          0.001634500590565203,
          0.3182847765385664,
          -0.3031846191441257,
          -0.012209962864704643,
          -0.7026908024719386,
          0.41322316969441225,
          -0.7026908024719386,
          -0.7026908024719386,
          0.5925434667936341,
          0.5925434667936341,
          0.5925434667936341,
          0.5925434667936338,
          0.5843485697772464
         ],
         "yaxis": "y"
        },
        {
         "customdata": [
          [
           "35-44"
          ],
          [
           "35-44"
          ],
          [
           "35-44"
          ],
          [
           "35-44"
          ],
          [
           "35-44"
          ],
          [
           "35-44"
          ],
          [
           "35-44"
          ],
          [
           "35-44"
          ],
          [
           "35-44"
          ],
          [
           "35-44"
          ],
          [
           "35-44"
          ],
          [
           "35-44"
          ],
          [
           "35-44"
          ],
          [
           "35-44"
          ],
          [
           "35-44"
          ],
          [
           "25-34"
          ],
          [
           "35-44"
          ],
          [
           "35-44"
          ],
          [
           ">=65"
          ],
          [
           "35-44"
          ],
          [
           "25-34"
          ],
          [
           "35-44"
          ],
          [
           "25-34"
          ]
         ],
         "hovertemplate": "Cluster=Cluster 2<br>PCA1=%{x}<br>PCA2=%{y}<br>Feature=%{customdata[0]}<extra></extra>",
         "legendgroup": "Cluster 2",
         "marker": {
          "color": "#00cc96",
          "opacity": 0.5,
          "symbol": "circle"
         },
         "mode": "markers",
         "name": "Cluster 2",
         "orientation": "v",
         "showlegend": true,
         "textposition": "top center",
         "type": "scatter",
         "visible": true,
         "x": [
          0.7132848673903233,
          0.0013155709540748717,
          0.7132848673903233,
          0.5940219943993353,
          0.3709614963639993,
          0.7132848673903233,
          0.5560021501621156,
          0.5940219943993353,
          0.6029092066310937,
          0.0013155709540748717,
          0.5560021501621155,
          0.5940219943993353,
          0.3709614963639993,
          0.7132848673903233,
          0.7132848673903233,
          0.9845023521710747,
          0.1611810892181094,
          0.041918216227121545,
          0.5917206722195131,
          0.5560021501621156,
          0.9845023521710743,
          0.7132848673903233,
          0.8741266914118447
         ],
         "xaxis": "x",
         "y": [
          -0.926852338109237,
          -0.7108856994883263,
          -0.926852338109237,
          -0.8820110995711601,
          -0.8793102882743088,
          -0.926852338109237,
          -0.9687545957106183,
          -0.8820110995711601,
          -0.9350472351256246,
          -0.7108856994883263,
          -0.9687545957106185,
          -0.8820110995711601,
          -0.8793102882743088,
          -0.926852338109237,
          -0.926852338109237,
          -0.2225270350467333,
          -0.7085622131662928,
          -0.6637209746282159,
          -0.3113795161605134,
          -0.9687545957106183,
          -0.2225270350467332,
          -0.926852338109237,
          -0.2307219320631209
         ],
         "yaxis": "y"
        },
        {
         "customdata": [
          [
           "45-54"
          ],
          [
           "25-34"
          ],
          [
           "25-34"
          ],
          [
           "45-54"
          ],
          [
           "55-64"
          ],
          [
           "45-54"
          ],
          [
           "45-54"
          ],
          [
           "35-44"
          ],
          [
           "25-34"
          ],
          [
           "35-44"
          ],
          [
           "45-54"
          ],
          [
           "45-54"
          ],
          [
           "45-54"
          ],
          [
           "45-54"
          ],
          [
           "45-54"
          ],
          [
           ">=65"
          ],
          [
           "45-54"
          ],
          [
           "45-54"
          ],
          [
           "35-44"
          ],
          [
           "45-54"
          ],
          [
           "35-44"
          ],
          [
           "45-54"
          ],
          [
           "55-64"
          ],
          [
           "35-44"
          ],
          [
           "55-64"
          ],
          [
           "45-54"
          ],
          [
           "25-34"
          ],
          [
           "45-54"
          ],
          [
           "55-64"
          ],
          [
           "35-44"
          ],
          [
           "45-54"
          ],
          [
           "25-34"
          ],
          [
           "35-44"
          ],
          [
           "25-34"
          ],
          [
           "35-44"
          ],
          [
           "45-54"
          ],
          [
           "45-54"
          ],
          [
           "25-34"
          ]
         ],
         "hovertemplate": "Cluster=Cluster 3<br>PCA1=%{x}<br>PCA2=%{y}<br>Feature=%{customdata[0]}<extra></extra>",
         "legendgroup": "Cluster 3",
         "marker": {
          "color": "#ab63fa",
          "opacity": 0.5,
          "symbol": "circle"
         },
         "mode": "markers",
         "name": "Cluster 3",
         "orientation": "v",
         "showlegend": true,
         "textposition": "top center",
         "type": "scatter",
         "visible": true,
         "x": [
          -0.09252165850383691,
          -0.11887260246420589,
          -0.008496941704976325,
          0.5090719771731821,
          0.15041608466004208,
          -0.09252165850383691,
          -0.2028973192630664,
          0.16459649196308362,
          0.47383382098105453,
          0.16459649196308362,
          0.5090719771731821,
          0.5090719771731821,
          -0.2028973192630664,
          0.38980910418219417,
          -0.09252165850383691,
          0.20031501402048113,
          -0.09252165850383691,
          -0.09252165850383691,
          -0.27971442648572764,
          -0.09252165850383613,
          -0.27971442648572764,
          -0.09252165850383691,
          -0.18351917302953977,
          -0.27971442648572764,
          0.4180744626474792,
          0.39869631641395264,
          -0.008496941704976915,
          0.27943344342296467,
          -0.18351917302953977,
          -0.3900900872449572,
          0.35178925994497434,
          -0.008496941704976325,
          -0.27971442648572764,
          0.47383382098105453,
          -0.27971442648572764,
          0.38980910418219417,
          -0.09252165850383691,
          -0.11887260246420582
         ],
         "xaxis": "x",
         "y": [
          1.06617717580799,
          0.4670733125885339,
          0.4752682096049213,
          0.8420156401706916,
          0.18716505589458396,
          1.06617717580799,
          1.0579822787916024,
          -0.4951208866962621,
          0.2959479125056997,
          -0.4951208866962621,
          0.8420156401706916,
          0.8420156401706916,
          1.0579822787916024,
          0.8868568787087684,
          1.06617717580799,
          0.16225419285384282,
          1.06617717580799,
          1.06617717580799,
          -0.22905709345758232,
          1.0661771758079885,
          -0.22905709345758232,
          1.06617717580799,
          0.4614237461496515,
          -0.22905709345758232,
          0.23726221051235324,
          0.833820743154304,
          0.4752682096049214,
          0.8786619816923807,
          0.4614237461496515,
          -0.23725199047397,
          0.8001133825693102,
          0.4752682096049213,
          -0.22905709345758232,
          0.2959479125056997,
          -0.22905709345758232,
          0.8868568787087684,
          1.06617717580799,
          0.46707331258853363
         ],
         "yaxis": "y"
        },
        {
         "customdata": [
          [
           "35-44"
          ],
          [
           "25-34"
          ],
          [
           "25-34"
          ],
          [
           "18-24"
          ],
          [
           "35-44"
          ],
          [
           "18-24"
          ],
          [
           "25-34"
          ],
          [
           "35-44"
          ],
          [
           "45-54"
          ],
          [
           "45-54"
          ],
          [
           "45-54"
          ],
          [
           "45-54"
          ],
          [
           "18-24"
          ],
          [
           "35-44"
          ],
          [
           "25-34"
          ],
          [
           "25-34"
          ],
          [
           "45-54"
          ],
          [
           "45-54"
          ],
          [
           "45-54"
          ],
          [
           "25-34"
          ],
          [
           "45-54"
          ],
          [
           "18-24"
          ],
          [
           "45-54"
          ],
          [
           "25-34"
          ],
          [
           "18-24"
          ],
          [
           "18-24"
          ]
         ],
         "hovertemplate": "Cluster=Cluster 4<br>PCA1=%{x}<br>PCA2=%{y}<br>Feature=%{customdata[0]}<extra></extra>",
         "legendgroup": "Cluster 4",
         "marker": {
          "color": "#FFA15A",
          "opacity": 0.5,
          "symbol": "circle"
         },
         "mode": "markers",
         "name": "Cluster 4",
         "orientation": "v",
         "showlegend": true,
         "textposition": "top center",
         "type": "scatter",
         "visible": true,
         "x": [
          1.1738952538505107,
          0.9627819759452313,
          1.296717233634813,
          1.5227301132256432,
          1.293158126841499,
          1.4123544524664127,
          0.9627819759452313,
          1.293158126841499,
          0.9696823636333698,
          0.8787572591463706,
          0.9193599044194174,
          1.3230681775951825,
          0.9211364775486232,
          0.6915644911644805,
          1.1729699534232183,
          1.1729699534232183,
          1.3610880218324017,
          1.3230681775951825,
          0.8787572591463706,
          1.445112738631262,
          1.038622777410405,
          1.4034672402346542,
          1.0889452366243577,
          1.0033846212182775,
          1.1313244550266104,
          0.9211364775486232
         ],
         "xaxis": "x",
         "y": [
          -0.8802200133532285,
          0.0034255868084968,
          -0.27083310344657074,
          -0.266038027984793,
          -0.9250612518913056,
          -0.27423292500118057,
          0.0034255868084968,
          -0.9250612518913054,
          0.8886479649267003,
          0.5943345530115657,
          0.6414992778716759,
          0.3282707597728858,
          -0.04187649234749457,
          -0.700899716254007,
          0.2528977601855546,
          0.2528977601855546,
          0.4150142559123439,
          0.3282707597728858,
          0.5943345530115657,
          -0.1758947102907249,
          0.5966580393335991,
          -0.2211967894467162,
          0.8438067263886233,
          0.050590311668607064,
          0.20759568102956324,
          -0.04187649234749457
         ],
         "yaxis": "y"
        },
        {
         "customdata": [
          [
           "35-44"
          ],
          [
           "<18"
          ],
          [
           "45-54"
          ],
          [
           "35-44"
          ],
          [
           "unknown"
          ],
          [
           "35-44"
          ],
          [
           "35-44"
          ],
          [
           "35-44"
          ],
          [
           ">=65"
          ]
         ],
         "hovertemplate": "Cluster=Cluster 5<br>PCA1=%{x}<br>PCA2=%{y}<br>Feature=%{customdata[0]}<extra></extra>",
         "legendgroup": "Cluster 5",
         "marker": {
          "color": "#19d3f3",
          "opacity": 0.5,
          "symbol": "circle"
         },
         "mode": "markers",
         "name": "Cluster 5",
         "orientation": "v",
         "showlegend": true,
         "textposition": "top center",
         "type": "scatter",
         "visible": true,
         "x": [
          -0.4934184336421897,
          -0.16539190810188203,
          -0.3062256656602993,
          -0.4934184336421897,
          -0.35352184101341527,
          -0.4934184336421897,
          -0.4934184336421897,
          -0.6037940944014192,
          -0.34732425082556184
         ],
         "xaxis": "x",
         "y": [
          -0.8171287034059891,
          -0.16058854833391753,
          0.47810556585958336,
          -0.8171287034059891,
          -0.14891162881447625,
          -0.8171287034059891,
          -0.8171287034059891,
          -0.8253236004223768,
          -0.1515587268394962
         ],
         "yaxis": "y"
        },
        {
         "customdata": [
          [
           "55-64"
          ],
          [
           "45-54"
          ],
          [
           "45-54"
          ],
          [
           "55-64"
          ],
          [
           "45-54"
          ],
          [
           "45-54"
          ],
          [
           "45-54"
          ],
          [
           "45-54"
          ],
          [
           "45-54"
          ],
          [
           "45-54"
          ],
          [
           "45-54"
          ],
          [
           "45-54"
          ],
          [
           "45-54"
          ],
          [
           "45-54"
          ],
          [
           "55-64"
          ],
          [
           "45-54"
          ],
          [
           "55-64"
          ],
          [
           "45-54"
          ],
          [
           "45-54"
          ],
          [
           "55-64"
          ],
          [
           "45-54"
          ],
          [
           "45-54"
          ],
          [
           "45-54"
          ],
          [
           "45-54"
          ],
          [
           "45-54"
          ],
          [
           "45-54"
          ],
          [
           "45-54"
          ],
          [
           "45-54"
          ],
          [
           "45-54"
          ],
          [
           "45-54"
          ],
          [
           "45-54"
          ],
          [
           "45-54"
          ],
          [
           "18-24"
          ]
         ],
         "hovertemplate": "Cluster=Cluster 6<br>PCA1=%{x}<br>PCA2=%{y}<br>Feature=%{customdata[0]}<extra></extra>",
         "legendgroup": "Cluster 6",
         "marker": {
          "color": "#FF6692",
          "opacity": 0.5,
          "symbol": "circle"
         },
         "mode": "markers",
         "name": "Cluster 6",
         "orientation": "v",
         "showlegend": true,
         "textposition": "top center",
         "type": "scatter",
         "visible": true,
         "x": [
          -0.3592033359487821,
          -0.2682058214230796,
          -0.7505365841091102,
          -0.4718881732248887,
          -0.7505365841091102,
          0.33948664496824155,
          -0.7505365841091102,
          -0.8609122448683397,
          -0.8609122448683397,
          -0.8609122448683397,
          -0.8609122448683397,
          -0.38089065869918615,
          -0.8609122448683397,
          -0.378581482182309,
          -0.3592033359487821,
          -0.49126631945841565,
          -0.23994046295779412,
          -0.38089065869918615,
          -0.14894294843209138,
          -0.3592033359487821,
          -0.14894294843209138,
          -0.7505365841091102,
          -0.2682058214230795,
          -0.7505365841091102,
          -0.8609122448683397,
          -0.14284411771778935,
          -0.7505365841091102,
          -0.7505365841091102,
          -0.14894294843209138,
          -0.2593186091913208,
          -0.8609122448683397,
          -0.7505365841091102,
          -0.22582660302082658
         ],
         "xaxis": "x",
         "y": [
          -0.03990436765929691,
          0.5648490619990416,
          0.7441693590982632,
          -0.029008659346057897,
          0.7441693590982632,
          0.6397081916537442,
          0.7441693590982632,
          0.7359744620818754,
          0.7359744620818754,
          0.7359744620818754,
          0.7359744620818754,
          0.5757447703122804,
          0.7359744620818754,
          0.556654164982654,
          -0.03990436765929691,
          0.5675498732958928,
          -0.08474560619737367,
          0.5757447703122804,
          0.5200078234609649,
          -0.03990436765929691,
          0.5200078234609649,
          0.7441693590982632,
          0.5648490619990416,
          0.7441693590982632,
          0.7359744620818754,
          0.8190284887529656,
          0.7441693590982632,
          0.7441693590982632,
          0.5200078234609649,
          0.5118129264445772,
          0.7359744620818754,
          0.7441693590982632,
          -0.07136198336001849
         ],
         "yaxis": "y"
        },
        {
         "customdata": [
          [
           "45-54"
          ],
          [
           "25-34"
          ],
          [
           "35-44"
          ],
          [
           "35-44"
          ],
          [
           "35-44"
          ],
          [
           "35-44"
          ],
          [
           "45-54"
          ],
          [
           "25-34"
          ],
          [
           "45-54"
          ],
          [
           "35-44"
          ],
          [
           ">=65"
          ],
          [
           "25-34"
          ],
          [
           "18-24"
          ],
          [
           "35-44"
          ],
          [
           "35-44"
          ],
          [
           "35-44"
          ],
          [
           "45-54"
          ],
          [
           "18-24"
          ]
         ],
         "hovertemplate": "Cluster=Cluster 7<br>PCA1=%{x}<br>PCA2=%{y}<br>Feature=%{customdata[0]}<extra></extra>",
         "legendgroup": "Cluster 7",
         "marker": {
          "color": "#B6E880",
          "opacity": 0.5,
          "symbol": "circle"
         },
         "mode": "markers",
         "name": "Cluster 7",
         "orientation": "v",
         "showlegend": true,
         "textposition": "top center",
         "type": "scatter",
         "visible": true,
         "x": [
          -0.17066332465793466,
          -0.08663860785907397,
          -0.02392083495024335,
          0.24373754303719347,
          0.3001588329654482,
          -0.3578560926398252,
          -0.17066332465793466,
          0.514955027817945,
          -0.17066332465793466,
          -0.4682317533990547,
          -0.21176190982319862,
          -0.08663860785907389,
          -0.12828410625568212,
          0.12447467004620573,
          -0.4682317533990547,
          0.18978317220621876,
          0.3205546502598545,
          -0.12828410625568212
         ],
         "xaxis": "x",
         "y": [
          0.745960445316195,
          0.15505147911312622,
          -0.8235325142044452,
          -0.7734353595866761,
          -0.22726600723965062,
          -0.5492738239493776,
          0.745960445316195,
          -0.06911005652417226,
          0.745960445316195,
          -0.5574687209657653,
          0.11629615261711522,
          0.15505147911312614,
          0.10974939995713479,
          -0.7285941210485992,
          -0.5574687209657653,
          -0.2354609042560383,
          0.5136040126625089,
          0.10974939995713479
         ],
         "yaxis": "y"
        }
       ],
       "layout": {
        "autosize": true,
        "legend": {
         "title": {
          "text": "Cluster"
         },
         "tracegroupgap": 0
        },
        "margin": {
         "t": 60
        },
        "plot_bgcolor": "rgb(240,240,240)",
        "template": {
         "data": {
          "bar": [
           {
            "error_x": {
             "color": "#2a3f5f"
            },
            "error_y": {
             "color": "#2a3f5f"
            },
            "marker": {
             "line": {
              "color": "#E5ECF6",
              "width": 0.5
             },
             "pattern": {
              "fillmode": "overlay",
              "size": 10,
              "solidity": 0.2
             }
            },
            "type": "bar"
           }
          ],
          "barpolar": [
           {
            "marker": {
             "line": {
              "color": "#E5ECF6",
              "width": 0.5
             },
             "pattern": {
              "fillmode": "overlay",
              "size": 10,
              "solidity": 0.2
             }
            },
            "type": "barpolar"
           }
          ],
          "carpet": [
           {
            "aaxis": {
             "endlinecolor": "#2a3f5f",
             "gridcolor": "white",
             "linecolor": "white",
             "minorgridcolor": "white",
             "startlinecolor": "#2a3f5f"
            },
            "baxis": {
             "endlinecolor": "#2a3f5f",
             "gridcolor": "white",
             "linecolor": "white",
             "minorgridcolor": "white",
             "startlinecolor": "#2a3f5f"
            },
            "type": "carpet"
           }
          ],
          "choropleth": [
           {
            "colorbar": {
             "outlinewidth": 0,
             "ticks": ""
            },
            "type": "choropleth"
           }
          ],
          "contour": [
           {
            "colorbar": {
             "outlinewidth": 0,
             "ticks": ""
            },
            "colorscale": [
             [
              0,
              "#0d0887"
             ],
             [
              0.1111111111111111,
              "#46039f"
             ],
             [
              0.2222222222222222,
              "#7201a8"
             ],
             [
              0.3333333333333333,
              "#9c179e"
             ],
             [
              0.4444444444444444,
              "#bd3786"
             ],
             [
              0.5555555555555556,
              "#d8576b"
             ],
             [
              0.6666666666666666,
              "#ed7953"
             ],
             [
              0.7777777777777778,
              "#fb9f3a"
             ],
             [
              0.8888888888888888,
              "#fdca26"
             ],
             [
              1,
              "#f0f921"
             ]
            ],
            "type": "contour"
           }
          ],
          "contourcarpet": [
           {
            "colorbar": {
             "outlinewidth": 0,
             "ticks": ""
            },
            "type": "contourcarpet"
           }
          ],
          "heatmap": [
           {
            "colorbar": {
             "outlinewidth": 0,
             "ticks": ""
            },
            "colorscale": [
             [
              0,
              "#0d0887"
             ],
             [
              0.1111111111111111,
              "#46039f"
             ],
             [
              0.2222222222222222,
              "#7201a8"
             ],
             [
              0.3333333333333333,
              "#9c179e"
             ],
             [
              0.4444444444444444,
              "#bd3786"
             ],
             [
              0.5555555555555556,
              "#d8576b"
             ],
             [
              0.6666666666666666,
              "#ed7953"
             ],
             [
              0.7777777777777778,
              "#fb9f3a"
             ],
             [
              0.8888888888888888,
              "#fdca26"
             ],
             [
              1,
              "#f0f921"
             ]
            ],
            "type": "heatmap"
           }
          ],
          "heatmapgl": [
           {
            "colorbar": {
             "outlinewidth": 0,
             "ticks": ""
            },
            "colorscale": [
             [
              0,
              "#0d0887"
             ],
             [
              0.1111111111111111,
              "#46039f"
             ],
             [
              0.2222222222222222,
              "#7201a8"
             ],
             [
              0.3333333333333333,
              "#9c179e"
             ],
             [
              0.4444444444444444,
              "#bd3786"
             ],
             [
              0.5555555555555556,
              "#d8576b"
             ],
             [
              0.6666666666666666,
              "#ed7953"
             ],
             [
              0.7777777777777778,
              "#fb9f3a"
             ],
             [
              0.8888888888888888,
              "#fdca26"
             ],
             [
              1,
              "#f0f921"
             ]
            ],
            "type": "heatmapgl"
           }
          ],
          "histogram": [
           {
            "marker": {
             "pattern": {
              "fillmode": "overlay",
              "size": 10,
              "solidity": 0.2
             }
            },
            "type": "histogram"
           }
          ],
          "histogram2d": [
           {
            "colorbar": {
             "outlinewidth": 0,
             "ticks": ""
            },
            "colorscale": [
             [
              0,
              "#0d0887"
             ],
             [
              0.1111111111111111,
              "#46039f"
             ],
             [
              0.2222222222222222,
              "#7201a8"
             ],
             [
              0.3333333333333333,
              "#9c179e"
             ],
             [
              0.4444444444444444,
              "#bd3786"
             ],
             [
              0.5555555555555556,
              "#d8576b"
             ],
             [
              0.6666666666666666,
              "#ed7953"
             ],
             [
              0.7777777777777778,
              "#fb9f3a"
             ],
             [
              0.8888888888888888,
              "#fdca26"
             ],
             [
              1,
              "#f0f921"
             ]
            ],
            "type": "histogram2d"
           }
          ],
          "histogram2dcontour": [
           {
            "colorbar": {
             "outlinewidth": 0,
             "ticks": ""
            },
            "colorscale": [
             [
              0,
              "#0d0887"
             ],
             [
              0.1111111111111111,
              "#46039f"
             ],
             [
              0.2222222222222222,
              "#7201a8"
             ],
             [
              0.3333333333333333,
              "#9c179e"
             ],
             [
              0.4444444444444444,
              "#bd3786"
             ],
             [
              0.5555555555555556,
              "#d8576b"
             ],
             [
              0.6666666666666666,
              "#ed7953"
             ],
             [
              0.7777777777777778,
              "#fb9f3a"
             ],
             [
              0.8888888888888888,
              "#fdca26"
             ],
             [
              1,
              "#f0f921"
             ]
            ],
            "type": "histogram2dcontour"
           }
          ],
          "mesh3d": [
           {
            "colorbar": {
             "outlinewidth": 0,
             "ticks": ""
            },
            "type": "mesh3d"
           }
          ],
          "parcoords": [
           {
            "line": {
             "colorbar": {
              "outlinewidth": 0,
              "ticks": ""
             }
            },
            "type": "parcoords"
           }
          ],
          "pie": [
           {
            "automargin": true,
            "type": "pie"
           }
          ],
          "scatter": [
           {
            "fillpattern": {
             "fillmode": "overlay",
             "size": 10,
             "solidity": 0.2
            },
            "type": "scatter"
           }
          ],
          "scatter3d": [
           {
            "line": {
             "colorbar": {
              "outlinewidth": 0,
              "ticks": ""
             }
            },
            "marker": {
             "colorbar": {
              "outlinewidth": 0,
              "ticks": ""
             }
            },
            "type": "scatter3d"
           }
          ],
          "scattercarpet": [
           {
            "marker": {
             "colorbar": {
              "outlinewidth": 0,
              "ticks": ""
             }
            },
            "type": "scattercarpet"
           }
          ],
          "scattergeo": [
           {
            "marker": {
             "colorbar": {
              "outlinewidth": 0,
              "ticks": ""
             }
            },
            "type": "scattergeo"
           }
          ],
          "scattergl": [
           {
            "marker": {
             "colorbar": {
              "outlinewidth": 0,
              "ticks": ""
             }
            },
            "type": "scattergl"
           }
          ],
          "scattermapbox": [
           {
            "marker": {
             "colorbar": {
              "outlinewidth": 0,
              "ticks": ""
             }
            },
            "type": "scattermapbox"
           }
          ],
          "scatterpolar": [
           {
            "marker": {
             "colorbar": {
              "outlinewidth": 0,
              "ticks": ""
             }
            },
            "type": "scatterpolar"
           }
          ],
          "scatterpolargl": [
           {
            "marker": {
             "colorbar": {
              "outlinewidth": 0,
              "ticks": ""
             }
            },
            "type": "scatterpolargl"
           }
          ],
          "scatterternary": [
           {
            "marker": {
             "colorbar": {
              "outlinewidth": 0,
              "ticks": ""
             }
            },
            "type": "scatterternary"
           }
          ],
          "surface": [
           {
            "colorbar": {
             "outlinewidth": 0,
             "ticks": ""
            },
            "colorscale": [
             [
              0,
              "#0d0887"
             ],
             [
              0.1111111111111111,
              "#46039f"
             ],
             [
              0.2222222222222222,
              "#7201a8"
             ],
             [
              0.3333333333333333,
              "#9c179e"
             ],
             [
              0.4444444444444444,
              "#bd3786"
             ],
             [
              0.5555555555555556,
              "#d8576b"
             ],
             [
              0.6666666666666666,
              "#ed7953"
             ],
             [
              0.7777777777777778,
              "#fb9f3a"
             ],
             [
              0.8888888888888888,
              "#fdca26"
             ],
             [
              1,
              "#f0f921"
             ]
            ],
            "type": "surface"
           }
          ],
          "table": [
           {
            "cells": {
             "fill": {
              "color": "#EBF0F8"
             },
             "line": {
              "color": "white"
             }
            },
            "header": {
             "fill": {
              "color": "#C8D4E3"
             },
             "line": {
              "color": "white"
             }
            },
            "type": "table"
           }
          ]
         },
         "layout": {
          "annotationdefaults": {
           "arrowcolor": "#2a3f5f",
           "arrowhead": 0,
           "arrowwidth": 1
          },
          "autotypenumbers": "strict",
          "coloraxis": {
           "colorbar": {
            "outlinewidth": 0,
            "ticks": ""
           }
          },
          "colorscale": {
           "diverging": [
            [
             0,
             "#8e0152"
            ],
            [
             0.1,
             "#c51b7d"
            ],
            [
             0.2,
             "#de77ae"
            ],
            [
             0.3,
             "#f1b6da"
            ],
            [
             0.4,
             "#fde0ef"
            ],
            [
             0.5,
             "#f7f7f7"
            ],
            [
             0.6,
             "#e6f5d0"
            ],
            [
             0.7,
             "#b8e186"
            ],
            [
             0.8,
             "#7fbc41"
            ],
            [
             0.9,
             "#4d9221"
            ],
            [
             1,
             "#276419"
            ]
           ],
           "sequential": [
            [
             0,
             "#0d0887"
            ],
            [
             0.1111111111111111,
             "#46039f"
            ],
            [
             0.2222222222222222,
             "#7201a8"
            ],
            [
             0.3333333333333333,
             "#9c179e"
            ],
            [
             0.4444444444444444,
             "#bd3786"
            ],
            [
             0.5555555555555556,
             "#d8576b"
            ],
            [
             0.6666666666666666,
             "#ed7953"
            ],
            [
             0.7777777777777778,
             "#fb9f3a"
            ],
            [
             0.8888888888888888,
             "#fdca26"
            ],
            [
             1,
             "#f0f921"
            ]
           ],
           "sequentialminus": [
            [
             0,
             "#0d0887"
            ],
            [
             0.1111111111111111,
             "#46039f"
            ],
            [
             0.2222222222222222,
             "#7201a8"
            ],
            [
             0.3333333333333333,
             "#9c179e"
            ],
            [
             0.4444444444444444,
             "#bd3786"
            ],
            [
             0.5555555555555556,
             "#d8576b"
            ],
            [
             0.6666666666666666,
             "#ed7953"
            ],
            [
             0.7777777777777778,
             "#fb9f3a"
            ],
            [
             0.8888888888888888,
             "#fdca26"
            ],
            [
             1,
             "#f0f921"
            ]
           ]
          },
          "colorway": [
           "#636efa",
           "#EF553B",
           "#00cc96",
           "#ab63fa",
           "#FFA15A",
           "#19d3f3",
           "#FF6692",
           "#B6E880",
           "#FF97FF",
           "#FECB52"
          ],
          "font": {
           "color": "#2a3f5f"
          },
          "geo": {
           "bgcolor": "white",
           "lakecolor": "white",
           "landcolor": "#E5ECF6",
           "showlakes": true,
           "showland": true,
           "subunitcolor": "white"
          },
          "hoverlabel": {
           "align": "left"
          },
          "hovermode": "closest",
          "mapbox": {
           "style": "light"
          },
          "paper_bgcolor": "white",
          "plot_bgcolor": "#E5ECF6",
          "polar": {
           "angularaxis": {
            "gridcolor": "white",
            "linecolor": "white",
            "ticks": ""
           },
           "bgcolor": "#E5ECF6",
           "radialaxis": {
            "gridcolor": "white",
            "linecolor": "white",
            "ticks": ""
           }
          },
          "scene": {
           "xaxis": {
            "backgroundcolor": "#E5ECF6",
            "gridcolor": "white",
            "gridwidth": 2,
            "linecolor": "white",
            "showbackground": true,
            "ticks": "",
            "zerolinecolor": "white"
           },
           "yaxis": {
            "backgroundcolor": "#E5ECF6",
            "gridcolor": "white",
            "gridwidth": 2,
            "linecolor": "white",
            "showbackground": true,
            "ticks": "",
            "zerolinecolor": "white"
           },
           "zaxis": {
            "backgroundcolor": "#E5ECF6",
            "gridcolor": "white",
            "gridwidth": 2,
            "linecolor": "white",
            "showbackground": true,
            "ticks": "",
            "zerolinecolor": "white"
           }
          },
          "shapedefaults": {
           "line": {
            "color": "#2a3f5f"
           }
          },
          "ternary": {
           "aaxis": {
            "gridcolor": "white",
            "linecolor": "white",
            "ticks": ""
           },
           "baxis": {
            "gridcolor": "white",
            "linecolor": "white",
            "ticks": ""
           },
           "bgcolor": "#E5ECF6",
           "caxis": {
            "gridcolor": "white",
            "linecolor": "white",
            "ticks": ""
           }
          },
          "title": {
           "x": 0.05
          },
          "xaxis": {
           "automargin": true,
           "gridcolor": "white",
           "linecolor": "white",
           "ticks": "",
           "title": {
            "standoff": 15
           },
           "zerolinecolor": "white",
           "zerolinewidth": 2
          },
          "yaxis": {
           "automargin": true,
           "gridcolor": "white",
           "linecolor": "white",
           "ticks": "",
           "title": {
            "standoff": 15
           },
           "zerolinecolor": "white",
           "zerolinewidth": 2
          }
         }
        },
        "title": {
         "text": "2D Cluster PCA Plot"
        },
        "xaxis": {
         "anchor": "y",
         "autorange": true,
         "domain": [
          0,
          1
         ],
         "range": [
          -1.205361702049698,
          1.6799868024251106
         ],
         "title": {
          "text": "PCA1"
         },
         "type": "linear"
        },
        "yaxis": {
         "anchor": "x",
         "autorange": true,
         "domain": [
          0,
          1
         ],
         "range": [
          -1.1026646200356438,
          1.2000872001330154
         ],
         "title": {
          "text": "PCA2"
         },
         "type": "linear"
        }
       }
      },
      "image/png": "[encoded data removed]",
      "text/html": [
       "<div>                            <div id=\"0f7c8182-e159-4712-977f-3e5aefe40a58\" class=\"plotly-graph-div\" style=\"height:600px; width:100%;\"></div>            <script type=\"text/javascript\">                require([\"plotly\"], function(Plotly) {                    window.PLOTLYENV=window.PLOTLYENV || {};                                    if (document.getElementById(\"0f7c8182-e159-4712-977f-3e5aefe40a58\")) {                    Plotly.newPlot(                        \"0f7c8182-e159-4712-977f-3e5aefe40a58\",                        [{\"customdata\":[[\"\\u003e=65\"],[\"35-44\"],[\"35-44\"],[\"55-64\"],[\"35-44\"],[\"25-34\"],[\"\\u003e=65\"],[\"35-44\"],[\"25-34\"],[\"25-34\"],[\"35-44\"],[\"35-44\"],[\"35-44\"],[\"35-44\"],[\"25-34\"],[\"25-34\"],[\"55-64\"],[\"55-64\"],[\"35-44\"],[\"35-44\"],[\"35-44\"],[\"35-44\"],[\"55-64\"],[\"55-64\"],[\"35-44\"],[\"35-44\"],[\"35-44\"],[\"35-44\"],[\"unknown\"],[\"35-44\"],[\"35-44\"],[\"35-44\"],[\"35-44\"],[\"35-44\"],[\"35-44\"],[\"35-44\"],[\"35-44\"],[\"25-34\"],[\"25-34\"],[\"35-44\"],[\"35-44\"],[\"35-44\"],[\"35-44\"],[\"25-34\"],[\"35-44\"],[\"35-44\"],[\"35-44\"],[\"25-34\"]],\"hovertemplate\":\"Cluster=Cluster 0\\u003cbr\\u003ePCA1=%{x}\\u003cbr\\u003ePCA2=%{y}\\u003cbr\\u003eFeature=%{customdata[0]}\\u003cextra\\u003e\\u003c\\u002fextra\\u003e\",\"legendgroup\":\"Cluster 0\",\"marker\":{\"color\":\"#636efa\",\"opacity\":0.5,\"symbol\":\"circle\"},\"mode\":\"markers\",\"name\":\"Cluster 0\",\"orientation\":\"v\",\"showlegend\":true,\"x\":[-0.7916351692743743,-1.0481050128502307,-0.9377293520910011,-0.8415340986348132,-0.9377293520910011,-0.6665118673102497,-0.7916351692743743,-0.9377293520910011,-0.1691950616781582,-0.0649182316332308,-0.4553985894049699,-0.4553985894049699,-0.9377293520910011,-0.9377293520910011,-0.6665118673102497,-0.7768875280694792,-0.8415340986348132,-0.8415340986348132,-0.9377293520910011,-0.44651137717321143,-1.0481050128502307,-0.9377293520910011,-0.8415340986348132,-0.8415340986348132,-1.0481050128502307,-0.5657742501641995,-1.0481050128502307,-0.9377293520910011,-0.9082084202214559,-0.5657742501641995,-0.336135716413982,-0.33003688569968015,-0.3361357164139818,-0.9377293520910008,-0.9377293520910011,-0.9377293520910011,-0.9377293520910017,-0.7768875280694792,-0.0649182316332308,-0.5657742501641995,-0.9377293520910011,-0.9377293520910011,-0.9377293520910011,-0.0649182316332308,-0.9377293520910011,-1.0481050128502307,-0.9377293520910011,-0.6665118673102497],\"xaxis\":\"x\",\"y\":[0.11450506639918355,-0.5592598071836968,-0.5510649101673092,0.1394159294399247,-0.5510649101673092,0.1532603928951945,0.11450506639918355,-0.5510649101673092,0.2199246255335093,-0.0709011427421039,-0.7303852072665308,-0.7303852072665308,-0.5510649101673092,-0.5510649101673092,0.1532603928951945,0.14506549587880682,0.1394159294399247,0.1394159294399247,-0.5510649101673092,-0.7834213428209952,-0.5592598071836968,-0.5510649101673092,0.1394159294399247,0.1394159294399247,-0.5592598071836968,-0.7385801042829185,-0.5592598071836968,-0.5510649101673092,0.10895726740781589,-0.7385801042829185,-0.7752264458046075,-0.4762057805126066,-0.7752264458046076,-0.5510649101673092,-0.5510649101673092,-0.5510649101673092,-0.5510649101673091,0.14506549587880682,-0.0709011427421039,-0.7385801042829185,-0.5510649101673092,-0.5510649101673092,-0.5510649101673092,-0.0709011427421039,-0.5510649101673092,-0.5592598071836968,-0.5510649101673092,0.1532603928951945],\"yaxis\":\"y\",\"type\":\"scatter\",\"textposition\":\"top center\"},{\"customdata\":[[\"45-54\"],[\"25-34\"],[\"35-44\"],[\"35-44\"],[\"35-44\"],[\"35-44\"],[\"25-34\"],[\"45-54\"],[\"25-34\"],[\"25-34\"],[\"25-34\"],[\"45-54\"],[\"45-54\"],[\"25-34\"],[\"35-44\"],[\"25-34\"],[\"45-54\"],[\"45-54\"],[\"45-54\"],[\"45-54\"],[\"18-24\"],[\"25-34\"],[\"45-54\"],[\"\\u003e=65\"],[\"55-64\"],[\"35-44\"],[\"45-54\"],[\"35-44\"],[\"35-44\"],[\"45-54\"],[\"45-54\"],[\"45-54\"],[\"45-54\"],[\"45-54\"]],\"hovertemplate\":\"Cluster=Cluster 1\\u003cbr\\u003ePCA1=%{x}\\u003cbr\\u003ePCA2=%{y}\\u003cbr\\u003eFeature=%{customdata[0]}\\u003cextra\\u003e\\u003c\\u002fextra\\u003e\",\"legendgroup\":\"Cluster 1\",\"marker\":{\"color\":\"#EF553B\",\"opacity\":0.5,\"symbol\":\"circle\"},\"mode\":\"markers\",\"name\":\"Cluster 1\",\"orientation\":\"v\",\"showlegend\":true,\"x\":[0.9004776353722138,0.3829087164940555,0.11169123171330436,0.11169123171330436,0.11169123171330436,0.11169123171330436,0.272533055734826,0.18850833893596536,0.8652394791800865,0.8272196349428671,0.3829087164940555,0.29888399969519497,0.781214762381226,0.272533055734826,0.11169123171330436,0.3829087164940555,0.29888399969519497,0.29888399969519497,0.9004776353722138,0.1885083389359655,0.7855741365462587,0.3829087164940555,0.632819257384777,0.7020963329787425,0.20788648516949218,0.11169123171330436,0.781214762381226,0.11169123171330436,0.11169123171330436,0.29888399969519497,0.29888399969519497,0.29888399969519497,0.2988839996951953,0.1885083389359655],\"xaxis\":\"x\",\"y\":[0.36838193115633566,0.001634500590565203,-0.7026908024719386,-0.7026908024719386,-0.7026908024719386,-0.7026908024719386,-0.006560396425822471,0.5843485697772463,-0.17768579650865649,-0.26442929264811504,0.001634500590565203,0.5925434667936341,0.41322316969441225,-0.006560396425822471,-0.7026908024719386,0.001634500590565203,0.5925434667936341,0.5925434667936341,0.36838193115633566,0.5843485697772464,-0.3097313718041059,0.001634500590565203,0.3182847765385664,-0.3031846191441257,-0.012209962864704643,-0.7026908024719386,0.41322316969441225,-0.7026908024719386,-0.7026908024719386,0.5925434667936341,0.5925434667936341,0.5925434667936341,0.5925434667936338,0.5843485697772464],\"yaxis\":\"y\",\"type\":\"scatter\",\"textposition\":\"top center\"},{\"customdata\":[[\"35-44\"],[\"35-44\"],[\"35-44\"],[\"35-44\"],[\"35-44\"],[\"35-44\"],[\"35-44\"],[\"35-44\"],[\"35-44\"],[\"35-44\"],[\"35-44\"],[\"35-44\"],[\"35-44\"],[\"35-44\"],[\"35-44\"],[\"25-34\"],[\"35-44\"],[\"35-44\"],[\"\\u003e=65\"],[\"35-44\"],[\"25-34\"],[\"35-44\"],[\"25-34\"]],\"hovertemplate\":\"Cluster=Cluster 2\\u003cbr\\u003ePCA1=%{x}\\u003cbr\\u003ePCA2=%{y}\\u003cbr\\u003eFeature=%{customdata[0]}\\u003cextra\\u003e\\u003c\\u002fextra\\u003e\",\"legendgroup\":\"Cluster 2\",\"marker\":{\"color\":\"#00cc96\",\"opacity\":0.5,\"symbol\":\"circle\"},\"mode\":\"markers\",\"name\":\"Cluster 2\",\"orientation\":\"v\",\"showlegend\":true,\"x\":[0.7132848673903233,0.0013155709540748717,0.7132848673903233,0.5940219943993353,0.3709614963639993,0.7132848673903233,0.5560021501621156,0.5940219943993353,0.6029092066310937,0.0013155709540748717,0.5560021501621155,0.5940219943993353,0.3709614963639993,0.7132848673903233,0.7132848673903233,0.9845023521710747,0.1611810892181094,0.041918216227121545,0.5917206722195131,0.5560021501621156,0.9845023521710743,0.7132848673903233,0.8741266914118447],\"xaxis\":\"x\",\"y\":[-0.926852338109237,-0.7108856994883263,-0.926852338109237,-0.8820110995711601,-0.8793102882743088,-0.926852338109237,-0.9687545957106183,-0.8820110995711601,-0.9350472351256246,-0.7108856994883263,-0.9687545957106185,-0.8820110995711601,-0.8793102882743088,-0.926852338109237,-0.926852338109237,-0.2225270350467333,-0.7085622131662928,-0.6637209746282159,-0.3113795161605134,-0.9687545957106183,-0.2225270350467332,-0.926852338109237,-0.2307219320631209],\"yaxis\":\"y\",\"type\":\"scatter\",\"textposition\":\"top center\"},{\"customdata\":[[\"45-54\"],[\"25-34\"],[\"25-34\"],[\"45-54\"],[\"55-64\"],[\"45-54\"],[\"45-54\"],[\"35-44\"],[\"25-34\"],[\"35-44\"],[\"45-54\"],[\"45-54\"],[\"45-54\"],[\"45-54\"],[\"45-54\"],[\"\\u003e=65\"],[\"45-54\"],[\"45-54\"],[\"35-44\"],[\"45-54\"],[\"35-44\"],[\"45-54\"],[\"55-64\"],[\"35-44\"],[\"55-64\"],[\"45-54\"],[\"25-34\"],[\"45-54\"],[\"55-64\"],[\"35-44\"],[\"45-54\"],[\"25-34\"],[\"35-44\"],[\"25-34\"],[\"35-44\"],[\"45-54\"],[\"45-54\"],[\"25-34\"]],\"hovertemplate\":\"Cluster=Cluster 3\\u003cbr\\u003ePCA1=%{x}\\u003cbr\\u003ePCA2=%{y}\\u003cbr\\u003eFeature=%{customdata[0]}\\u003cextra\\u003e\\u003c\\u002fextra\\u003e\",\"legendgroup\":\"Cluster 3\",\"marker\":{\"color\":\"#ab63fa\",\"opacity\":0.5,\"symbol\":\"circle\"},\"mode\":\"markers\",\"name\":\"Cluster 3\",\"orientation\":\"v\",\"showlegend\":true,\"x\":[-0.09252165850383691,-0.11887260246420589,-0.008496941704976325,0.5090719771731821,0.15041608466004208,-0.09252165850383691,-0.2028973192630664,0.16459649196308362,0.47383382098105453,0.16459649196308362,0.5090719771731821,0.5090719771731821,-0.2028973192630664,0.38980910418219417,-0.09252165850383691,0.20031501402048113,-0.09252165850383691,-0.09252165850383691,-0.27971442648572764,-0.09252165850383613,-0.27971442648572764,-0.09252165850383691,-0.18351917302953977,-0.27971442648572764,0.4180744626474792,0.39869631641395264,-0.008496941704976915,0.27943344342296467,-0.18351917302953977,-0.3900900872449572,0.35178925994497434,-0.008496941704976325,-0.27971442648572764,0.47383382098105453,-0.27971442648572764,0.38980910418219417,-0.09252165850383691,-0.11887260246420582],\"xaxis\":\"x\",\"y\":[1.06617717580799,0.4670733125885339,0.4752682096049213,0.8420156401706916,0.18716505589458396,1.06617717580799,1.0579822787916024,-0.4951208866962621,0.2959479125056997,-0.4951208866962621,0.8420156401706916,0.8420156401706916,1.0579822787916024,0.8868568787087684,1.06617717580799,0.16225419285384282,1.06617717580799,1.06617717580799,-0.22905709345758232,1.0661771758079885,-0.22905709345758232,1.06617717580799,0.4614237461496515,-0.22905709345758232,0.23726221051235324,0.833820743154304,0.4752682096049214,0.8786619816923807,0.4614237461496515,-0.23725199047397,0.8001133825693102,0.4752682096049213,-0.22905709345758232,0.2959479125056997,-0.22905709345758232,0.8868568787087684,1.06617717580799,0.46707331258853363],\"yaxis\":\"y\",\"type\":\"scatter\",\"textposition\":\"top center\"},{\"customdata\":[[\"35-44\"],[\"25-34\"],[\"25-34\"],[\"18-24\"],[\"35-44\"],[\"18-24\"],[\"25-34\"],[\"35-44\"],[\"45-54\"],[\"45-54\"],[\"45-54\"],[\"45-54\"],[\"18-24\"],[\"35-44\"],[\"25-34\"],[\"25-34\"],[\"45-54\"],[\"45-54\"],[\"45-54\"],[\"25-34\"],[\"45-54\"],[\"18-24\"],[\"45-54\"],[\"25-34\"],[\"18-24\"],[\"18-24\"]],\"hovertemplate\":\"Cluster=Cluster 4\\u003cbr\\u003ePCA1=%{x}\\u003cbr\\u003ePCA2=%{y}\\u003cbr\\u003eFeature=%{customdata[0]}\\u003cextra\\u003e\\u003c\\u002fextra\\u003e\",\"legendgroup\":\"Cluster 4\",\"marker\":{\"color\":\"#FFA15A\",\"opacity\":0.5,\"symbol\":\"circle\"},\"mode\":\"markers\",\"name\":\"Cluster 4\",\"orientation\":\"v\",\"showlegend\":true,\"x\":[1.1738952538505107,0.9627819759452313,1.296717233634813,1.5227301132256432,1.293158126841499,1.4123544524664127,0.9627819759452313,1.293158126841499,0.9696823636333698,0.8787572591463706,0.9193599044194174,1.3230681775951825,0.9211364775486232,0.6915644911644805,1.1729699534232183,1.1729699534232183,1.3610880218324017,1.3230681775951825,0.8787572591463706,1.445112738631262,1.038622777410405,1.4034672402346542,1.0889452366243577,1.0033846212182775,1.1313244550266104,0.9211364775486232],\"xaxis\":\"x\",\"y\":[-0.8802200133532285,0.0034255868084968,-0.27083310344657074,-0.266038027984793,-0.9250612518913056,-0.27423292500118057,0.0034255868084968,-0.9250612518913054,0.8886479649267003,0.5943345530115657,0.6414992778716759,0.3282707597728858,-0.04187649234749457,-0.700899716254007,0.2528977601855546,0.2528977601855546,0.4150142559123439,0.3282707597728858,0.5943345530115657,-0.1758947102907249,0.5966580393335991,-0.2211967894467162,0.8438067263886233,0.050590311668607064,0.20759568102956324,-0.04187649234749457],\"yaxis\":\"y\",\"type\":\"scatter\",\"textposition\":\"top center\"},{\"customdata\":[[\"35-44\"],[\"\\u003c18\"],[\"45-54\"],[\"35-44\"],[\"unknown\"],[\"35-44\"],[\"35-44\"],[\"35-44\"],[\"\\u003e=65\"]],\"hovertemplate\":\"Cluster=Cluster 5\\u003cbr\\u003ePCA1=%{x}\\u003cbr\\u003ePCA2=%{y}\\u003cbr\\u003eFeature=%{customdata[0]}\\u003cextra\\u003e\\u003c\\u002fextra\\u003e\",\"legendgroup\":\"Cluster 5\",\"marker\":{\"color\":\"#19d3f3\",\"opacity\":0.5,\"symbol\":\"circle\"},\"mode\":\"markers\",\"name\":\"Cluster 5\",\"orientation\":\"v\",\"showlegend\":true,\"x\":[-0.4934184336421897,-0.16539190810188203,-0.3062256656602993,-0.4934184336421897,-0.35352184101341527,-0.4934184336421897,-0.4934184336421897,-0.6037940944014192,-0.34732425082556184],\"xaxis\":\"x\",\"y\":[-0.8171287034059891,-0.16058854833391753,0.47810556585958336,-0.8171287034059891,-0.14891162881447625,-0.8171287034059891,-0.8171287034059891,-0.8253236004223768,-0.1515587268394962],\"yaxis\":\"y\",\"type\":\"scatter\",\"textposition\":\"top center\"},{\"customdata\":[[\"55-64\"],[\"45-54\"],[\"45-54\"],[\"55-64\"],[\"45-54\"],[\"45-54\"],[\"45-54\"],[\"45-54\"],[\"45-54\"],[\"45-54\"],[\"45-54\"],[\"45-54\"],[\"45-54\"],[\"45-54\"],[\"55-64\"],[\"45-54\"],[\"55-64\"],[\"45-54\"],[\"45-54\"],[\"55-64\"],[\"45-54\"],[\"45-54\"],[\"45-54\"],[\"45-54\"],[\"45-54\"],[\"45-54\"],[\"45-54\"],[\"45-54\"],[\"45-54\"],[\"45-54\"],[\"45-54\"],[\"45-54\"],[\"18-24\"]],\"hovertemplate\":\"Cluster=Cluster 6\\u003cbr\\u003ePCA1=%{x}\\u003cbr\\u003ePCA2=%{y}\\u003cbr\\u003eFeature=%{customdata[0]}\\u003cextra\\u003e\\u003c\\u002fextra\\u003e\",\"legendgroup\":\"Cluster 6\",\"marker\":{\"color\":\"#FF6692\",\"opacity\":0.5,\"symbol\":\"circle\"},\"mode\":\"markers\",\"name\":\"Cluster 6\",\"orientation\":\"v\",\"showlegend\":true,\"x\":[-0.3592033359487821,-0.2682058214230796,-0.7505365841091102,-0.4718881732248887,-0.7505365841091102,0.33948664496824155,-0.7505365841091102,-0.8609122448683397,-0.8609122448683397,-0.8609122448683397,-0.8609122448683397,-0.38089065869918615,-0.8609122448683397,-0.378581482182309,-0.3592033359487821,-0.49126631945841565,-0.23994046295779412,-0.38089065869918615,-0.14894294843209138,-0.3592033359487821,-0.14894294843209138,-0.7505365841091102,-0.2682058214230795,-0.7505365841091102,-0.8609122448683397,-0.14284411771778935,-0.7505365841091102,-0.7505365841091102,-0.14894294843209138,-0.2593186091913208,-0.8609122448683397,-0.7505365841091102,-0.22582660302082658],\"xaxis\":\"x\",\"y\":[-0.03990436765929691,0.5648490619990416,0.7441693590982632,-0.029008659346057897,0.7441693590982632,0.6397081916537442,0.7441693590982632,0.7359744620818754,0.7359744620818754,0.7359744620818754,0.7359744620818754,0.5757447703122804,0.7359744620818754,0.556654164982654,-0.03990436765929691,0.5675498732958928,-0.08474560619737367,0.5757447703122804,0.5200078234609649,-0.03990436765929691,0.5200078234609649,0.7441693590982632,0.5648490619990416,0.7441693590982632,0.7359744620818754,0.8190284887529656,0.7441693590982632,0.7441693590982632,0.5200078234609649,0.5118129264445772,0.7359744620818754,0.7441693590982632,-0.07136198336001849],\"yaxis\":\"y\",\"type\":\"scatter\",\"textposition\":\"top center\"},{\"customdata\":[[\"45-54\"],[\"25-34\"],[\"35-44\"],[\"35-44\"],[\"35-44\"],[\"35-44\"],[\"45-54\"],[\"25-34\"],[\"45-54\"],[\"35-44\"],[\"\\u003e=65\"],[\"25-34\"],[\"18-24\"],[\"35-44\"],[\"35-44\"],[\"35-44\"],[\"45-54\"],[\"18-24\"]],\"hovertemplate\":\"Cluster=Cluster 7\\u003cbr\\u003ePCA1=%{x}\\u003cbr\\u003ePCA2=%{y}\\u003cbr\\u003eFeature=%{customdata[0]}\\u003cextra\\u003e\\u003c\\u002fextra\\u003e\",\"legendgroup\":\"Cluster 7\",\"marker\":{\"color\":\"#B6E880\",\"opacity\":0.5,\"symbol\":\"circle\"},\"mode\":\"markers\",\"name\":\"Cluster 7\",\"orientation\":\"v\",\"showlegend\":true,\"x\":[-0.17066332465793466,-0.08663860785907397,-0.02392083495024335,0.24373754303719347,0.3001588329654482,-0.3578560926398252,-0.17066332465793466,0.514955027817945,-0.17066332465793466,-0.4682317533990547,-0.21176190982319862,-0.08663860785907389,-0.12828410625568212,0.12447467004620573,-0.4682317533990547,0.18978317220621876,0.3205546502598545,-0.12828410625568212],\"xaxis\":\"x\",\"y\":[0.745960445316195,0.15505147911312622,-0.8235325142044452,-0.7734353595866761,-0.22726600723965062,-0.5492738239493776,0.745960445316195,-0.06911005652417226,0.745960445316195,-0.5574687209657653,0.11629615261711522,0.15505147911312614,0.10974939995713479,-0.7285941210485992,-0.5574687209657653,-0.2354609042560383,0.5136040126625089,0.10974939995713479],\"yaxis\":\"y\",\"type\":\"scatter\",\"textposition\":\"top center\"}],                        {\"template\":{\"data\":{\"histogram2dcontour\":[{\"type\":\"histogram2dcontour\",\"colorbar\":{\"outlinewidth\":0,\"ticks\":\"\"},\"colorscale\":[[0.0,\"#0d0887\"],[0.1111111111111111,\"#46039f\"],[0.2222222222222222,\"#7201a8\"],[0.3333333333333333,\"#9c179e\"],[0.4444444444444444,\"#bd3786\"],[0.5555555555555556,\"#d8576b\"],[0.6666666666666666,\"#ed7953\"],[0.7777777777777778,\"#fb9f3a\"],[0.8888888888888888,\"#fdca26\"],[1.0,\"#f0f921\"]]}],\"choropleth\":[{\"type\":\"choropleth\",\"colorbar\":{\"outlinewidth\":0,\"ticks\":\"\"}}],\"histogram2d\":[{\"type\":\"histogram2d\",\"colorbar\":{\"outlinewidth\":0,\"ticks\":\"\"},\"colorscale\":[[0.0,\"#0d0887\"],[0.1111111111111111,\"#46039f\"],[0.2222222222222222,\"#7201a8\"],[0.3333333333333333,\"#9c179e\"],[0.4444444444444444,\"#bd3786\"],[0.5555555555555556,\"#d8576b\"],[0.6666666666666666,\"#ed7953\"],[0.7777777777777778,\"#fb9f3a\"],[0.8888888888888888,\"#fdca26\"],[1.0,\"#f0f921\"]]}],\"heatmap\":[{\"type\":\"heatmap\",\"colorbar\":{\"outlinewidth\":0,\"ticks\":\"\"},\"colorscale\":[[0.0,\"#0d0887\"],[0.1111111111111111,\"#46039f\"],[0.2222222222222222,\"#7201a8\"],[0.3333333333333333,\"#9c179e\"],[0.4444444444444444,\"#bd3786\"],[0.5555555555555556,\"#d8576b\"],[0.6666666666666666,\"#ed7953\"],[0.7777777777777778,\"#fb9f3a\"],[0.8888888888888888,\"#fdca26\"],[1.0,\"#f0f921\"]]}],\"heatmapgl\":[{\"type\":\"heatmapgl\",\"colorbar\":{\"outlinewidth\":0,\"ticks\":\"\"},\"colorscale\":[[0.0,\"#0d0887\"],[0.1111111111111111,\"#46039f\"],[0.2222222222222222,\"#7201a8\"],[0.3333333333333333,\"#9c179e\"],[0.4444444444444444,\"#bd3786\"],[0.5555555555555556,\"#d8576b\"],[0.6666666666666666,\"#ed7953\"],[0.7777777777777778,\"#fb9f3a\"],[0.8888888888888888,\"#fdca26\"],[1.0,\"#f0f921\"]]}],\"contourcarpet\":[{\"type\":\"contourcarpet\",\"colorbar\":{\"outlinewidth\":0,\"ticks\":\"\"}}],\"contour\":[{\"type\":\"contour\",\"colorbar\":{\"outlinewidth\":0,\"ticks\":\"\"},\"colorscale\":[[0.0,\"#0d0887\"],[0.1111111111111111,\"#46039f\"],[0.2222222222222222,\"#7201a8\"],[0.3333333333333333,\"#9c179e\"],[0.4444444444444444,\"#bd3786\"],[0.5555555555555556,\"#d8576b\"],[0.6666666666666666,\"#ed7953\"],[0.7777777777777778,\"#fb9f3a\"],[0.8888888888888888,\"#fdca26\"],[1.0,\"#f0f921\"]]}],\"surface\":[{\"type\":\"surface\",\"colorbar\":{\"outlinewidth\":0,\"ticks\":\"\"},\"colorscale\":[[0.0,\"#0d0887\"],[0.1111111111111111,\"#46039f\"],[0.2222222222222222,\"#7201a8\"],[0.3333333333333333,\"#9c179e\"],[0.4444444444444444,\"#bd3786\"],[0.5555555555555556,\"#d8576b\"],[0.6666666666666666,\"#ed7953\"],[0.7777777777777778,\"#fb9f3a\"],[0.8888888888888888,\"#fdca26\"],[1.0,\"#f0f921\"]]}],\"mesh3d\":[{\"type\":\"mesh3d\",\"colorbar\":{\"outlinewidth\":0,\"ticks\":\"\"}}],\"scatter\":[{\"fillpattern\":{\"fillmode\":\"overlay\",\"size\":10,\"solidity\":0.2},\"type\":\"scatter\"}],\"parcoords\":[{\"type\":\"parcoords\",\"line\":{\"colorbar\":{\"outlinewidth\":0,\"ticks\":\"\"}}}],\"scatterpolargl\":[{\"type\":\"scatterpolargl\",\"marker\":{\"colorbar\":{\"outlinewidth\":0,\"ticks\":\"\"}}}],\"bar\":[{\"error_x\":{\"color\":\"#2a3f5f\"},\"error_y\":{\"color\":\"#2a3f5f\"},\"marker\":{\"line\":{\"color\":\"#E5ECF6\",\"width\":0.5},\"pattern\":{\"fillmode\":\"overlay\",\"size\":10,\"solidity\":0.2}},\"type\":\"bar\"}],\"scattergeo\":[{\"type\":\"scattergeo\",\"marker\":{\"colorbar\":{\"outlinewidth\":0,\"ticks\":\"\"}}}],\"scatterpolar\":[{\"type\":\"scatterpolar\",\"marker\":{\"colorbar\":{\"outlinewidth\":0,\"ticks\":\"\"}}}],\"histogram\":[{\"marker\":{\"pattern\":{\"fillmode\":\"overlay\",\"size\":10,\"solidity\":0.2}},\"type\":\"histogram\"}],\"scattergl\":[{\"type\":\"scattergl\",\"marker\":{\"colorbar\":{\"outlinewidth\":0,\"ticks\":\"\"}}}],\"scatter3d\":[{\"type\":\"scatter3d\",\"line\":{\"colorbar\":{\"outlinewidth\":0,\"ticks\":\"\"}},\"marker\":{\"colorbar\":{\"outlinewidth\":0,\"ticks\":\"\"}}}],\"scattermapbox\":[{\"type\":\"scattermapbox\",\"marker\":{\"colorbar\":{\"outlinewidth\":0,\"ticks\":\"\"}}}],\"scatterternary\":[{\"type\":\"scatterternary\",\"marker\":{\"colorbar\":{\"outlinewidth\":0,\"ticks\":\"\"}}}],\"scattercarpet\":[{\"type\":\"scattercarpet\",\"marker\":{\"colorbar\":{\"outlinewidth\":0,\"ticks\":\"\"}}}],\"carpet\":[{\"aaxis\":{\"endlinecolor\":\"#2a3f5f\",\"gridcolor\":\"white\",\"linecolor\":\"white\",\"minorgridcolor\":\"white\",\"startlinecolor\":\"#2a3f5f\"},\"baxis\":{\"endlinecolor\":\"#2a3f5f\",\"gridcolor\":\"white\",\"linecolor\":\"white\",\"minorgridcolor\":\"white\",\"startlinecolor\":\"#2a3f5f\"},\"type\":\"carpet\"}],\"table\":[{\"cells\":{\"fill\":{\"color\":\"#EBF0F8\"},\"line\":{\"color\":\"white\"}},\"header\":{\"fill\":{\"color\":\"#C8D4E3\"},\"line\":{\"color\":\"white\"}},\"type\":\"table\"}],\"barpolar\":[{\"marker\":{\"line\":{\"color\":\"#E5ECF6\",\"width\":0.5},\"pattern\":{\"fillmode\":\"overlay\",\"size\":10,\"solidity\":0.2}},\"type\":\"barpolar\"}],\"pie\":[{\"automargin\":true,\"type\":\"pie\"}]},\"layout\":{\"autotypenumbers\":\"strict\",\"colorway\":[\"#636efa\",\"#EF553B\",\"#00cc96\",\"#ab63fa\",\"#FFA15A\",\"#19d3f3\",\"#FF6692\",\"#B6E880\",\"#FF97FF\",\"#FECB52\"],\"font\":{\"color\":\"#2a3f5f\"},\"hovermode\":\"closest\",\"hoverlabel\":{\"align\":\"left\"},\"paper_bgcolor\":\"white\",\"plot_bgcolor\":\"#E5ECF6\",\"polar\":{\"bgcolor\":\"#E5ECF6\",\"angularaxis\":{\"gridcolor\":\"white\",\"linecolor\":\"white\",\"ticks\":\"\"},\"radialaxis\":{\"gridcolor\":\"white\",\"linecolor\":\"white\",\"ticks\":\"\"}},\"ternary\":{\"bgcolor\":\"#E5ECF6\",\"aaxis\":{\"gridcolor\":\"white\",\"linecolor\":\"white\",\"ticks\":\"\"},\"baxis\":{\"gridcolor\":\"white\",\"linecolor\":\"white\",\"ticks\":\"\"},\"caxis\":{\"gridcolor\":\"white\",\"linecolor\":\"white\",\"ticks\":\"\"}},\"coloraxis\":{\"colorbar\":{\"outlinewidth\":0,\"ticks\":\"\"}},\"colorscale\":{\"sequential\":[[0.0,\"#0d0887\"],[0.1111111111111111,\"#46039f\"],[0.2222222222222222,\"#7201a8\"],[0.3333333333333333,\"#9c179e\"],[0.4444444444444444,\"#bd3786\"],[0.5555555555555556,\"#d8576b\"],[0.6666666666666666,\"#ed7953\"],[0.7777777777777778,\"#fb9f3a\"],[0.8888888888888888,\"#fdca26\"],[1.0,\"#f0f921\"]],\"sequentialminus\":[[0.0,\"#0d0887\"],[0.1111111111111111,\"#46039f\"],[0.2222222222222222,\"#7201a8\"],[0.3333333333333333,\"#9c179e\"],[0.4444444444444444,\"#bd3786\"],[0.5555555555555556,\"#d8576b\"],[0.6666666666666666,\"#ed7953\"],[0.7777777777777778,\"#fb9f3a\"],[0.8888888888888888,\"#fdca26\"],[1.0,\"#f0f921\"]],\"diverging\":[[0,\"#8e0152\"],[0.1,\"#c51b7d\"],[0.2,\"#de77ae\"],[0.3,\"#f1b6da\"],[0.4,\"#fde0ef\"],[0.5,\"#f7f7f7\"],[0.6,\"#e6f5d0\"],[0.7,\"#b8e186\"],[0.8,\"#7fbc41\"],[0.9,\"#4d9221\"],[1,\"#276419\"]]},\"xaxis\":{\"gridcolor\":\"white\",\"linecolor\":\"white\",\"ticks\":\"\",\"title\":{\"standoff\":15},\"zerolinecolor\":\"white\",\"automargin\":true,\"zerolinewidth\":2},\"yaxis\":{\"gridcolor\":\"white\",\"linecolor\":\"white\",\"ticks\":\"\",\"title\":{\"standoff\":15},\"zerolinecolor\":\"white\",\"automargin\":true,\"zerolinewidth\":2},\"scene\":{\"xaxis\":{\"backgroundcolor\":\"#E5ECF6\",\"gridcolor\":\"white\",\"linecolor\":\"white\",\"showbackground\":true,\"ticks\":\"\",\"zerolinecolor\":\"white\",\"gridwidth\":2},\"yaxis\":{\"backgroundcolor\":\"#E5ECF6\",\"gridcolor\":\"white\",\"linecolor\":\"white\",\"showbackground\":true,\"ticks\":\"\",\"zerolinecolor\":\"white\",\"gridwidth\":2},\"zaxis\":{\"backgroundcolor\":\"#E5ECF6\",\"gridcolor\":\"white\",\"linecolor\":\"white\",\"showbackground\":true,\"ticks\":\"\",\"zerolinecolor\":\"white\",\"gridwidth\":2}},\"shapedefaults\":{\"line\":{\"color\":\"#2a3f5f\"}},\"annotationdefaults\":{\"arrowcolor\":\"#2a3f5f\",\"arrowhead\":0,\"arrowwidth\":1},\"geo\":{\"bgcolor\":\"white\",\"landcolor\":\"#E5ECF6\",\"subunitcolor\":\"white\",\"showland\":true,\"showlakes\":true,\"lakecolor\":\"white\"},\"title\":{\"x\":0.05},\"mapbox\":{\"style\":\"light\"}}},\"xaxis\":{\"anchor\":\"y\",\"domain\":[0.0,1.0],\"title\":{\"text\":\"PCA1\"}},\"yaxis\":{\"anchor\":\"x\",\"domain\":[0.0,1.0],\"title\":{\"text\":\"PCA2\"}},\"legend\":{\"title\":{\"text\":\"Cluster\"},\"tracegroupgap\":0},\"margin\":{\"t\":60},\"plot_bgcolor\":\"rgb(240,240,240)\",\"title\":{\"text\":\"2D Cluster PCA Plot\"},\"height\":600},                        {\"responsive\": true}                    ).then(function(){\n",
       "                            \n",
       "var gd = document.getElementById('0f7c8182-e159-4712-977f-3e5aefe40a58');\n",
       "var x = new MutationObserver(function (mutations, observer) {{\n",
       "        var display = window.getComputedStyle(gd).display;\n",
       "        if (!display || display === 'none') {{\n",
       "            console.log([gd, 'removed!']);\n",
       "            Plotly.purge(gd);\n",
       "            observer.disconnect();\n",
       "        }}\n",
       "}});\n",
       "\n",
       "// Listen for the removal of the full notebook cells\n",
       "var notebookContainer = gd.closest('#notebook-container');\n",
       "if (notebookContainer) {{\n",
       "    x.observe(notebookContainer, {childList: true});\n",
       "}}\n",
       "\n",
       "// Listen for the clearing of the current output cell\n",
       "var outputEl = gd.closest('.output');\n",
       "if (outputEl) {{\n",
       "    x.observe(outputEl, {childList: true});\n",
       "}}\n",
       "\n",
       "                        })                };                });            </script>        </div>"
      ]
     },
     "metadata": {},
     "output_type": "display_data"
    }
   ],
   "source": [
    "plot_model(kmeans, plot='cluster')"
   ]
  },
  {
   "cell_type": "code",
   "execution_count": 14,
   "metadata": {},
   "outputs": [
    {
     "data": {
      "text/plain": [
       "(Pipeline(memory=Memory(location=None),\n",
       "          steps=[('numerical_imputer',\n",
       "                  TransformerWrapper(include=[], transformer=SimpleImputer())),\n",
       "                 ('categorical_imputer',\n",
       "                  TransformerWrapper(include=['age', 'edu_level', 'fav_animals',\n",
       "                                              'fav_place', 'gender'],\n",
       "                                     transformer=SimpleImputer(strategy='most_frequent'))),\n",
       "                 ('ordinal_encoding',\n",
       "                  TransformerWrapper(include=['gender'],\n",
       "                                     transfo...\n",
       "                                                                mapping=[{'col': 'gender',\n",
       "                                                                          'data_type': dtype('O'),\n",
       "                                                                          'mapping': Kobieta      0\n",
       " Mężczyzna    1\n",
       " NaN         -1\n",
       " dtype: int64}]))),\n",
       "                 ('onehot_encoding',\n",
       "                  TransformerWrapper(include=['age', 'edu_level', 'fav_animals',\n",
       "                                              'fav_place'],\n",
       "                                     transformer=OneHotEncoder(cols=['age',\n",
       "                                                                     'edu_level',\n",
       "                                                                     'fav_animals',\n",
       "                                                                     'fav_place'],\n",
       "                                                               handle_missing='return_nan',\n",
       "                                                               use_cat_names=True))),\n",
       "                 ('trained_model', KMeans(random_state=123))]),\n",
       " 'welcome_survey_clustering_pipeline_v2.pkl')"
      ]
     },
     "execution_count": 14,
     "metadata": {},
     "output_type": "execute_result"
    }
   ],
   "source": [
    "save_model(kmeans, 'welcome_survey_clustering_pipeline_v2', verbose=False)"
   ]
  },
  {
   "cell_type": "code",
   "execution_count": 15,
   "metadata": {},
   "outputs": [
    {
     "name": "stdout",
     "output_type": "stream",
     "text": [
      "Transformation Pipeline and Model Successfully Loaded\n"
     ]
    },
    {
     "data": {
      "text/html": [
       "<style>#sk-container-id-1 {\n",
       "  /* Definition of color scheme common for light and dark mode */\n",
       "  --sklearn-color-text: black;\n",
       "  --sklearn-color-line: gray;\n",
       "  /* Definition of color scheme for unfitted estimators */\n",
       "  --sklearn-color-unfitted-level-0: #fff5e6;\n",
       "  --sklearn-color-unfitted-level-1: #f6e4d2;\n",
       "  --sklearn-color-unfitted-level-2: #ffe0b3;\n",
       "  --sklearn-color-unfitted-level-3: chocolate;\n",
       "  /* Definition of color scheme for fitted estimators */\n",
       "  --sklearn-color-fitted-level-0: #f0f8ff;\n",
       "  --sklearn-color-fitted-level-1: #d4ebff;\n",
       "  --sklearn-color-fitted-level-2: #b3dbfd;\n",
       "  --sklearn-color-fitted-level-3: cornflowerblue;\n",
       "\n",
       "  /* Specific color for light theme */\n",
       "  --sklearn-color-text-on-default-background: var(--sg-text-color, var(--theme-code-foreground, var(--jp-content-font-color1, black)));\n",
       "  --sklearn-color-background: var(--sg-background-color, var(--theme-background, var(--jp-layout-color0, white)));\n",
       "  --sklearn-color-border-box: var(--sg-text-color, var(--theme-code-foreground, var(--jp-content-font-color1, black)));\n",
       "  --sklearn-color-icon: #696969;\n",
       "\n",
       "  @media (prefers-color-scheme: dark) {\n",
       "    /* Redefinition of color scheme for dark theme */\n",
       "    --sklearn-color-text-on-default-background: var(--sg-text-color, var(--theme-code-foreground, var(--jp-content-font-color1, white)));\n",
       "    --sklearn-color-background: var(--sg-background-color, var(--theme-background, var(--jp-layout-color0, #111)));\n",
       "    --sklearn-color-border-box: var(--sg-text-color, var(--theme-code-foreground, var(--jp-content-font-color1, white)));\n",
       "    --sklearn-color-icon: #878787;\n",
       "  }\n",
       "}\n",
       "\n",
       "#sk-container-id-1 {\n",
       "  color: var(--sklearn-color-text);\n",
       "}\n",
       "\n",
       "#sk-container-id-1 pre {\n",
       "  padding: 0;\n",
       "}\n",
       "\n",
       "#sk-container-id-1 input.sk-hidden--visually {\n",
       "  border: 0;\n",
       "  clip: rect(1px 1px 1px 1px);\n",
       "  clip: rect(1px, 1px, 1px, 1px);\n",
       "  height: 1px;\n",
       "  margin: -1px;\n",
       "  overflow: hidden;\n",
       "  padding: 0;\n",
       "  position: absolute;\n",
       "  width: 1px;\n",
       "}\n",
       "\n",
       "#sk-container-id-1 div.sk-dashed-wrapped {\n",
       "  border: 1px dashed var(--sklearn-color-line);\n",
       "  margin: 0 0.4em 0.5em 0.4em;\n",
       "  box-sizing: border-box;\n",
       "  padding-bottom: 0.4em;\n",
       "  background-color: var(--sklearn-color-background);\n",
       "}\n",
       "\n",
       "#sk-container-id-1 div.sk-container {\n",
       "  /* jupyter's `normalize.less` sets `[hidden] { display: none; }`\n",
       "     but bootstrap.min.css set `[hidden] { display: none !important; }`\n",
       "     so we also need the `!important` here to be able to override the\n",
       "     default hidden behavior on the sphinx rendered scikit-learn.org.\n",
       "     See: https://github.com/scikit-learn/scikit-learn/issues/21755 */\n",
       "  display: inline-block !important;\n",
       "  position: relative;\n",
       "}\n",
       "\n",
       "#sk-container-id-1 div.sk-text-repr-fallback {\n",
       "  display: none;\n",
       "}\n",
       "\n",
       "div.sk-parallel-item,\n",
       "div.sk-serial,\n",
       "div.sk-item {\n",
       "  /* draw centered vertical line to link estimators */\n",
       "  background-image: linear-gradient(var(--sklearn-color-text-on-default-background), var(--sklearn-color-text-on-default-background));\n",
       "  background-size: 2px 100%;\n",
       "  background-repeat: no-repeat;\n",
       "  background-position: center center;\n",
       "}\n",
       "\n",
       "/* Parallel-specific style estimator block */\n",
       "\n",
       "#sk-container-id-1 div.sk-parallel-item::after {\n",
       "  content: \"\";\n",
       "  width: 100%;\n",
       "  border-bottom: 2px solid var(--sklearn-color-text-on-default-background);\n",
       "  flex-grow: 1;\n",
       "}\n",
       "\n",
       "#sk-container-id-1 div.sk-parallel {\n",
       "  display: flex;\n",
       "  align-items: stretch;\n",
       "  justify-content: center;\n",
       "  background-color: var(--sklearn-color-background);\n",
       "  position: relative;\n",
       "}\n",
       "\n",
       "#sk-container-id-1 div.sk-parallel-item {\n",
       "  display: flex;\n",
       "  flex-direction: column;\n",
       "}\n",
       "\n",
       "#sk-container-id-1 div.sk-parallel-item:first-child::after {\n",
       "  align-self: flex-end;\n",
       "  width: 50%;\n",
       "}\n",
       "\n",
       "#sk-container-id-1 div.sk-parallel-item:last-child::after {\n",
       "  align-self: flex-start;\n",
       "  width: 50%;\n",
       "}\n",
       "\n",
       "#sk-container-id-1 div.sk-parallel-item:only-child::after {\n",
       "  width: 0;\n",
       "}\n",
       "\n",
       "/* Serial-specific style estimator block */\n",
       "\n",
       "#sk-container-id-1 div.sk-serial {\n",
       "  display: flex;\n",
       "  flex-direction: column;\n",
       "  align-items: center;\n",
       "  background-color: var(--sklearn-color-background);\n",
       "  padding-right: 1em;\n",
       "  padding-left: 1em;\n",
       "}\n",
       "\n",
       "\n",
       "/* Toggleable style: style used for estimator/Pipeline/ColumnTransformer box that is\n",
       "clickable and can be expanded/collapsed.\n",
       "- Pipeline and ColumnTransformer use this feature and define the default style\n",
       "- Estimators will overwrite some part of the style using the `sk-estimator` class\n",
       "*/\n",
       "\n",
       "/* Pipeline and ColumnTransformer style (default) */\n",
       "\n",
       "#sk-container-id-1 div.sk-toggleable {\n",
       "  /* Default theme specific background. It is overwritten whether we have a\n",
       "  specific estimator or a Pipeline/ColumnTransformer */\n",
       "  background-color: var(--sklearn-color-background);\n",
       "}\n",
       "\n",
       "/* Toggleable label */\n",
       "#sk-container-id-1 label.sk-toggleable__label {\n",
       "  cursor: pointer;\n",
       "  display: block;\n",
       "  width: 100%;\n",
       "  margin-bottom: 0;\n",
       "  padding: 0.5em;\n",
       "  box-sizing: border-box;\n",
       "  text-align: center;\n",
       "}\n",
       "\n",
       "#sk-container-id-1 label.sk-toggleable__label-arrow:before {\n",
       "  /* Arrow on the left of the label */\n",
       "  content: \"▸\";\n",
       "  float: left;\n",
       "  margin-right: 0.25em;\n",
       "  color: var(--sklearn-color-icon);\n",
       "}\n",
       "\n",
       "#sk-container-id-1 label.sk-toggleable__label-arrow:hover:before {\n",
       "  color: var(--sklearn-color-text);\n",
       "}\n",
       "\n",
       "/* Toggleable content - dropdown */\n",
       "\n",
       "#sk-container-id-1 div.sk-toggleable__content {\n",
       "  max-height: 0;\n",
       "  max-width: 0;\n",
       "  overflow: hidden;\n",
       "  text-align: left;\n",
       "  /* unfitted */\n",
       "  background-color: var(--sklearn-color-unfitted-level-0);\n",
       "}\n",
       "\n",
       "#sk-container-id-1 div.sk-toggleable__content.fitted {\n",
       "  /* fitted */\n",
       "  background-color: var(--sklearn-color-fitted-level-0);\n",
       "}\n",
       "\n",
       "#sk-container-id-1 div.sk-toggleable__content pre {\n",
       "  margin: 0.2em;\n",
       "  border-radius: 0.25em;\n",
       "  color: var(--sklearn-color-text);\n",
       "  /* unfitted */\n",
       "  background-color: var(--sklearn-color-unfitted-level-0);\n",
       "}\n",
       "\n",
       "#sk-container-id-1 div.sk-toggleable__content.fitted pre {\n",
       "  /* unfitted */\n",
       "  background-color: var(--sklearn-color-fitted-level-0);\n",
       "}\n",
       "\n",
       "#sk-container-id-1 input.sk-toggleable__control:checked~div.sk-toggleable__content {\n",
       "  /* Expand drop-down */\n",
       "  max-height: 200px;\n",
       "  max-width: 100%;\n",
       "  overflow: auto;\n",
       "}\n",
       "\n",
       "#sk-container-id-1 input.sk-toggleable__control:checked~label.sk-toggleable__label-arrow:before {\n",
       "  content: \"▾\";\n",
       "}\n",
       "\n",
       "/* Pipeline/ColumnTransformer-specific style */\n",
       "\n",
       "#sk-container-id-1 div.sk-label input.sk-toggleable__control:checked~label.sk-toggleable__label {\n",
       "  color: var(--sklearn-color-text);\n",
       "  background-color: var(--sklearn-color-unfitted-level-2);\n",
       "}\n",
       "\n",
       "#sk-container-id-1 div.sk-label.fitted input.sk-toggleable__control:checked~label.sk-toggleable__label {\n",
       "  background-color: var(--sklearn-color-fitted-level-2);\n",
       "}\n",
       "\n",
       "/* Estimator-specific style */\n",
       "\n",
       "/* Colorize estimator box */\n",
       "#sk-container-id-1 div.sk-estimator input.sk-toggleable__control:checked~label.sk-toggleable__label {\n",
       "  /* unfitted */\n",
       "  background-color: var(--sklearn-color-unfitted-level-2);\n",
       "}\n",
       "\n",
       "#sk-container-id-1 div.sk-estimator.fitted input.sk-toggleable__control:checked~label.sk-toggleable__label {\n",
       "  /* fitted */\n",
       "  background-color: var(--sklearn-color-fitted-level-2);\n",
       "}\n",
       "\n",
       "#sk-container-id-1 div.sk-label label.sk-toggleable__label,\n",
       "#sk-container-id-1 div.sk-label label {\n",
       "  /* The background is the default theme color */\n",
       "  color: var(--sklearn-color-text-on-default-background);\n",
       "}\n",
       "\n",
       "/* On hover, darken the color of the background */\n",
       "#sk-container-id-1 div.sk-label:hover label.sk-toggleable__label {\n",
       "  color: var(--sklearn-color-text);\n",
       "  background-color: var(--sklearn-color-unfitted-level-2);\n",
       "}\n",
       "\n",
       "/* Label box, darken color on hover, fitted */\n",
       "#sk-container-id-1 div.sk-label.fitted:hover label.sk-toggleable__label.fitted {\n",
       "  color: var(--sklearn-color-text);\n",
       "  background-color: var(--sklearn-color-fitted-level-2);\n",
       "}\n",
       "\n",
       "/* Estimator label */\n",
       "\n",
       "#sk-container-id-1 div.sk-label label {\n",
       "  font-family: monospace;\n",
       "  font-weight: bold;\n",
       "  display: inline-block;\n",
       "  line-height: 1.2em;\n",
       "}\n",
       "\n",
       "#sk-container-id-1 div.sk-label-container {\n",
       "  text-align: center;\n",
       "}\n",
       "\n",
       "/* Estimator-specific */\n",
       "#sk-container-id-1 div.sk-estimator {\n",
       "  font-family: monospace;\n",
       "  border: 1px dotted var(--sklearn-color-border-box);\n",
       "  border-radius: 0.25em;\n",
       "  box-sizing: border-box;\n",
       "  margin-bottom: 0.5em;\n",
       "  /* unfitted */\n",
       "  background-color: var(--sklearn-color-unfitted-level-0);\n",
       "}\n",
       "\n",
       "#sk-container-id-1 div.sk-estimator.fitted {\n",
       "  /* fitted */\n",
       "  background-color: var(--sklearn-color-fitted-level-0);\n",
       "}\n",
       "\n",
       "/* on hover */\n",
       "#sk-container-id-1 div.sk-estimator:hover {\n",
       "  /* unfitted */\n",
       "  background-color: var(--sklearn-color-unfitted-level-2);\n",
       "}\n",
       "\n",
       "#sk-container-id-1 div.sk-estimator.fitted:hover {\n",
       "  /* fitted */\n",
       "  background-color: var(--sklearn-color-fitted-level-2);\n",
       "}\n",
       "\n",
       "/* Specification for estimator info (e.g. \"i\" and \"?\") */\n",
       "\n",
       "/* Common style for \"i\" and \"?\" */\n",
       "\n",
       ".sk-estimator-doc-link,\n",
       "a:link.sk-estimator-doc-link,\n",
       "a:visited.sk-estimator-doc-link {\n",
       "  float: right;\n",
       "  font-size: smaller;\n",
       "  line-height: 1em;\n",
       "  font-family: monospace;\n",
       "  background-color: var(--sklearn-color-background);\n",
       "  border-radius: 1em;\n",
       "  height: 1em;\n",
       "  width: 1em;\n",
       "  text-decoration: none !important;\n",
       "  margin-left: 1ex;\n",
       "  /* unfitted */\n",
       "  border: var(--sklearn-color-unfitted-level-1) 1pt solid;\n",
       "  color: var(--sklearn-color-unfitted-level-1);\n",
       "}\n",
       "\n",
       ".sk-estimator-doc-link.fitted,\n",
       "a:link.sk-estimator-doc-link.fitted,\n",
       "a:visited.sk-estimator-doc-link.fitted {\n",
       "  /* fitted */\n",
       "  border: var(--sklearn-color-fitted-level-1) 1pt solid;\n",
       "  color: var(--sklearn-color-fitted-level-1);\n",
       "}\n",
       "\n",
       "/* On hover */\n",
       "div.sk-estimator:hover .sk-estimator-doc-link:hover,\n",
       ".sk-estimator-doc-link:hover,\n",
       "div.sk-label-container:hover .sk-estimator-doc-link:hover,\n",
       ".sk-estimator-doc-link:hover {\n",
       "  /* unfitted */\n",
       "  background-color: var(--sklearn-color-unfitted-level-3);\n",
       "  color: var(--sklearn-color-background);\n",
       "  text-decoration: none;\n",
       "}\n",
       "\n",
       "div.sk-estimator.fitted:hover .sk-estimator-doc-link.fitted:hover,\n",
       ".sk-estimator-doc-link.fitted:hover,\n",
       "div.sk-label-container:hover .sk-estimator-doc-link.fitted:hover,\n",
       ".sk-estimator-doc-link.fitted:hover {\n",
       "  /* fitted */\n",
       "  background-color: var(--sklearn-color-fitted-level-3);\n",
       "  color: var(--sklearn-color-background);\n",
       "  text-decoration: none;\n",
       "}\n",
       "\n",
       "/* Span, style for the box shown on hovering the info icon */\n",
       ".sk-estimator-doc-link span {\n",
       "  display: none;\n",
       "  z-index: 9999;\n",
       "  position: relative;\n",
       "  font-weight: normal;\n",
       "  right: .2ex;\n",
       "  padding: .5ex;\n",
       "  margin: .5ex;\n",
       "  width: min-content;\n",
       "  min-width: 20ex;\n",
       "  max-width: 50ex;\n",
       "  color: var(--sklearn-color-text);\n",
       "  box-shadow: 2pt 2pt 4pt #999;\n",
       "  /* unfitted */\n",
       "  background: var(--sklearn-color-unfitted-level-0);\n",
       "  border: .5pt solid var(--sklearn-color-unfitted-level-3);\n",
       "}\n",
       "\n",
       ".sk-estimator-doc-link.fitted span {\n",
       "  /* fitted */\n",
       "  background: var(--sklearn-color-fitted-level-0);\n",
       "  border: var(--sklearn-color-fitted-level-3);\n",
       "}\n",
       "\n",
       ".sk-estimator-doc-link:hover span {\n",
       "  display: block;\n",
       "}\n",
       "\n",
       "/* \"?\"-specific style due to the `<a>` HTML tag */\n",
       "\n",
       "#sk-container-id-1 a.estimator_doc_link {\n",
       "  float: right;\n",
       "  font-size: 1rem;\n",
       "  line-height: 1em;\n",
       "  font-family: monospace;\n",
       "  background-color: var(--sklearn-color-background);\n",
       "  border-radius: 1rem;\n",
       "  height: 1rem;\n",
       "  width: 1rem;\n",
       "  text-decoration: none;\n",
       "  /* unfitted */\n",
       "  color: var(--sklearn-color-unfitted-level-1);\n",
       "  border: var(--sklearn-color-unfitted-level-1) 1pt solid;\n",
       "}\n",
       "\n",
       "#sk-container-id-1 a.estimator_doc_link.fitted {\n",
       "  /* fitted */\n",
       "  border: var(--sklearn-color-fitted-level-1) 1pt solid;\n",
       "  color: var(--sklearn-color-fitted-level-1);\n",
       "}\n",
       "\n",
       "/* On hover */\n",
       "#sk-container-id-1 a.estimator_doc_link:hover {\n",
       "  /* unfitted */\n",
       "  background-color: var(--sklearn-color-unfitted-level-3);\n",
       "  color: var(--sklearn-color-background);\n",
       "  text-decoration: none;\n",
       "}\n",
       "\n",
       "#sk-container-id-1 a.estimator_doc_link.fitted:hover {\n",
       "  /* fitted */\n",
       "  background-color: var(--sklearn-color-fitted-level-3);\n",
       "}\n",
       "</style><div id=\"sk-container-id-1\" class=\"sk-top-container\"><div class=\"sk-text-repr-fallback\"><pre>Pipeline(memory=FastMemory(location=C:\\Users\\krzys\\AppData\\Local\\Temp\\joblib),\n",
       "         steps=[(&#x27;numerical_imputer&#x27;,\n",
       "                 TransformerWrapper(include=[], transformer=SimpleImputer())),\n",
       "                (&#x27;categorical_imputer&#x27;,\n",
       "                 TransformerWrapper(include=[&#x27;age&#x27;, &#x27;edu_level&#x27;, &#x27;fav_animals&#x27;,\n",
       "                                             &#x27;fav_place&#x27;, &#x27;gender&#x27;],\n",
       "                                    transformer=SimpleImputer(strategy=&#x27;most_frequent&#x27;))),\n",
       "                (&#x27;ordinal_encoding&#x27;,\n",
       "                 Trans...\n",
       "                                                               mapping=[{&#x27;col&#x27;: &#x27;gender&#x27;,\n",
       "                                                                         &#x27;data_type&#x27;: dtype(&#x27;O&#x27;),\n",
       "                                                                         &#x27;mapping&#x27;: Kobieta      0\n",
       "Mężczyzna    1\n",
       "NaN         -1\n",
       "dtype: int64}]))),\n",
       "                (&#x27;onehot_encoding&#x27;,\n",
       "                 TransformerWrapper(include=[&#x27;age&#x27;, &#x27;edu_level&#x27;, &#x27;fav_animals&#x27;,\n",
       "                                             &#x27;fav_place&#x27;],\n",
       "                                    transformer=OneHotEncoder(cols=[&#x27;age&#x27;,\n",
       "                                                                    &#x27;edu_level&#x27;,\n",
       "                                                                    &#x27;fav_animals&#x27;,\n",
       "                                                                    &#x27;fav_place&#x27;],\n",
       "                                                              handle_missing=&#x27;return_nan&#x27;,\n",
       "                                                              use_cat_names=True))),\n",
       "                (&#x27;trained_model&#x27;, KMeans(random_state=123))])</pre><b>In a Jupyter environment, please rerun this cell to show the HTML representation or trust the notebook. <br />On GitHub, the HTML representation is unable to render, please try loading this page with nbviewer.org.</b></div><div class=\"sk-container\" hidden><div class=\"sk-item sk-dashed-wrapped\"><div class=\"sk-label-container\"><div class=\"sk-label fitted sk-toggleable\"><input class=\"sk-toggleable__control sk-hidden--visually\" id=\"sk-estimator-id-1\" type=\"checkbox\" ><label for=\"sk-estimator-id-1\" class=\"sk-toggleable__label fitted sk-toggleable__label-arrow fitted\">&nbsp;Pipeline<span class=\"sk-estimator-doc-link fitted\">i<span>Fitted</span></span></label><div class=\"sk-toggleable__content fitted\"><pre>Pipeline(memory=FastMemory(location=C:\\Users\\krzys\\AppData\\Local\\Temp\\joblib),\n",
       "         steps=[(&#x27;numerical_imputer&#x27;,\n",
       "                 TransformerWrapper(include=[], transformer=SimpleImputer())),\n",
       "                (&#x27;categorical_imputer&#x27;,\n",
       "                 TransformerWrapper(include=[&#x27;age&#x27;, &#x27;edu_level&#x27;, &#x27;fav_animals&#x27;,\n",
       "                                             &#x27;fav_place&#x27;, &#x27;gender&#x27;],\n",
       "                                    transformer=SimpleImputer(strategy=&#x27;most_frequent&#x27;))),\n",
       "                (&#x27;ordinal_encoding&#x27;,\n",
       "                 Trans...\n",
       "                                                               mapping=[{&#x27;col&#x27;: &#x27;gender&#x27;,\n",
       "                                                                         &#x27;data_type&#x27;: dtype(&#x27;O&#x27;),\n",
       "                                                                         &#x27;mapping&#x27;: Kobieta      0\n",
       "Mężczyzna    1\n",
       "NaN         -1\n",
       "dtype: int64}]))),\n",
       "                (&#x27;onehot_encoding&#x27;,\n",
       "                 TransformerWrapper(include=[&#x27;age&#x27;, &#x27;edu_level&#x27;, &#x27;fav_animals&#x27;,\n",
       "                                             &#x27;fav_place&#x27;],\n",
       "                                    transformer=OneHotEncoder(cols=[&#x27;age&#x27;,\n",
       "                                                                    &#x27;edu_level&#x27;,\n",
       "                                                                    &#x27;fav_animals&#x27;,\n",
       "                                                                    &#x27;fav_place&#x27;],\n",
       "                                                              handle_missing=&#x27;return_nan&#x27;,\n",
       "                                                              use_cat_names=True))),\n",
       "                (&#x27;trained_model&#x27;, KMeans(random_state=123))])</pre></div> </div></div><div class=\"sk-serial\"><div class=\"sk-item sk-dashed-wrapped\"><div class=\"sk-label-container\"><div class=\"sk-label fitted sk-toggleable\"><input class=\"sk-toggleable__control sk-hidden--visually\" id=\"sk-estimator-id-2\" type=\"checkbox\" ><label for=\"sk-estimator-id-2\" class=\"sk-toggleable__label fitted sk-toggleable__label-arrow fitted\">numerical_imputer: TransformerWrapper</label><div class=\"sk-toggleable__content fitted\"><pre>TransformerWrapper(include=[], transformer=SimpleImputer())</pre></div> </div></div><div class=\"sk-parallel\"><div class=\"sk-parallel-item\"><div class=\"sk-item\"><div class=\"sk-label-container\"><div class=\"sk-label fitted sk-toggleable\"><input class=\"sk-toggleable__control sk-hidden--visually\" id=\"sk-estimator-id-3\" type=\"checkbox\" ><label for=\"sk-estimator-id-3\" class=\"sk-toggleable__label fitted sk-toggleable__label-arrow fitted\">transformer: SimpleImputer</label><div class=\"sk-toggleable__content fitted\"><pre>SimpleImputer()</pre></div> </div></div><div class=\"sk-serial\"><div class=\"sk-item\"><div class=\"sk-estimator fitted sk-toggleable\"><input class=\"sk-toggleable__control sk-hidden--visually\" id=\"sk-estimator-id-4\" type=\"checkbox\" ><label for=\"sk-estimator-id-4\" class=\"sk-toggleable__label fitted sk-toggleable__label-arrow fitted\">&nbsp;SimpleImputer<a class=\"sk-estimator-doc-link fitted\" rel=\"noreferrer\" target=\"_blank\" href=\"https://scikit-learn.org/1.4/modules/generated/sklearn.impute.SimpleImputer.html\">?<span>Documentation for SimpleImputer</span></a></label><div class=\"sk-toggleable__content fitted\"><pre>SimpleImputer()</pre></div> </div></div></div></div></div></div></div><div class=\"sk-item sk-dashed-wrapped\"><div class=\"sk-label-container\"><div class=\"sk-label fitted sk-toggleable\"><input class=\"sk-toggleable__control sk-hidden--visually\" id=\"sk-estimator-id-5\" type=\"checkbox\" ><label for=\"sk-estimator-id-5\" class=\"sk-toggleable__label fitted sk-toggleable__label-arrow fitted\">categorical_imputer: TransformerWrapper</label><div class=\"sk-toggleable__content fitted\"><pre>TransformerWrapper(include=[&#x27;age&#x27;, &#x27;edu_level&#x27;, &#x27;fav_animals&#x27;, &#x27;fav_place&#x27;,\n",
       "                            &#x27;gender&#x27;],\n",
       "                   transformer=SimpleImputer(strategy=&#x27;most_frequent&#x27;))</pre></div> </div></div><div class=\"sk-parallel\"><div class=\"sk-parallel-item\"><div class=\"sk-item\"><div class=\"sk-label-container\"><div class=\"sk-label fitted sk-toggleable\"><input class=\"sk-toggleable__control sk-hidden--visually\" id=\"sk-estimator-id-6\" type=\"checkbox\" ><label for=\"sk-estimator-id-6\" class=\"sk-toggleable__label fitted sk-toggleable__label-arrow fitted\">transformer: SimpleImputer</label><div class=\"sk-toggleable__content fitted\"><pre>SimpleImputer(strategy=&#x27;most_frequent&#x27;)</pre></div> </div></div><div class=\"sk-serial\"><div class=\"sk-item\"><div class=\"sk-estimator fitted sk-toggleable\"><input class=\"sk-toggleable__control sk-hidden--visually\" id=\"sk-estimator-id-7\" type=\"checkbox\" ><label for=\"sk-estimator-id-7\" class=\"sk-toggleable__label fitted sk-toggleable__label-arrow fitted\">&nbsp;SimpleImputer<a class=\"sk-estimator-doc-link fitted\" rel=\"noreferrer\" target=\"_blank\" href=\"https://scikit-learn.org/1.4/modules/generated/sklearn.impute.SimpleImputer.html\">?<span>Documentation for SimpleImputer</span></a></label><div class=\"sk-toggleable__content fitted\"><pre>SimpleImputer(strategy=&#x27;most_frequent&#x27;)</pre></div> </div></div></div></div></div></div></div><div class=\"sk-item sk-dashed-wrapped\"><div class=\"sk-label-container\"><div class=\"sk-label fitted sk-toggleable\"><input class=\"sk-toggleable__control sk-hidden--visually\" id=\"sk-estimator-id-8\" type=\"checkbox\" ><label for=\"sk-estimator-id-8\" class=\"sk-toggleable__label fitted sk-toggleable__label-arrow fitted\">ordinal_encoding: TransformerWrapper</label><div class=\"sk-toggleable__content fitted\"><pre>TransformerWrapper(include=[&#x27;gender&#x27;],\n",
       "                   transformer=OrdinalEncoder(cols=[&#x27;gender&#x27;],\n",
       "                                              handle_missing=&#x27;return_nan&#x27;,\n",
       "                                              mapping=[{&#x27;col&#x27;: &#x27;gender&#x27;,\n",
       "                                                        &#x27;data_type&#x27;: dtype(&#x27;O&#x27;),\n",
       "                                                        &#x27;mapping&#x27;: Kobieta      0\n",
       "Mężczyzna    1\n",
       "NaN         -1\n",
       "dtype: int64}]))</pre></div> </div></div><div class=\"sk-parallel\"><div class=\"sk-parallel-item\"><div class=\"sk-item\"><div class=\"sk-label-container\"><div class=\"sk-label fitted sk-toggleable\"><input class=\"sk-toggleable__control sk-hidden--visually\" id=\"sk-estimator-id-9\" type=\"checkbox\" ><label for=\"sk-estimator-id-9\" class=\"sk-toggleable__label fitted sk-toggleable__label-arrow fitted\">transformer: OrdinalEncoder</label><div class=\"sk-toggleable__content fitted\"><pre>OrdinalEncoder(cols=[&#x27;gender&#x27;], handle_missing=&#x27;return_nan&#x27;,\n",
       "               mapping=[{&#x27;col&#x27;: &#x27;gender&#x27;, &#x27;data_type&#x27;: dtype(&#x27;O&#x27;),\n",
       "                         &#x27;mapping&#x27;: Kobieta      0\n",
       "Mężczyzna    1\n",
       "NaN         -1\n",
       "dtype: int64}])</pre></div> </div></div><div class=\"sk-serial\"><div class=\"sk-item\"><div class=\"sk-estimator fitted sk-toggleable\"><input class=\"sk-toggleable__control sk-hidden--visually\" id=\"sk-estimator-id-10\" type=\"checkbox\" ><label for=\"sk-estimator-id-10\" class=\"sk-toggleable__label fitted sk-toggleable__label-arrow fitted\">OrdinalEncoder</label><div class=\"sk-toggleable__content fitted\"><pre>OrdinalEncoder(cols=[&#x27;gender&#x27;], handle_missing=&#x27;return_nan&#x27;,\n",
       "               mapping=[{&#x27;col&#x27;: &#x27;gender&#x27;, &#x27;data_type&#x27;: dtype(&#x27;O&#x27;),\n",
       "                         &#x27;mapping&#x27;: Kobieta      0\n",
       "Mężczyzna    1\n",
       "NaN         -1\n",
       "dtype: int64}])</pre></div> </div></div></div></div></div></div></div><div class=\"sk-item sk-dashed-wrapped\"><div class=\"sk-label-container\"><div class=\"sk-label fitted sk-toggleable\"><input class=\"sk-toggleable__control sk-hidden--visually\" id=\"sk-estimator-id-11\" type=\"checkbox\" ><label for=\"sk-estimator-id-11\" class=\"sk-toggleable__label fitted sk-toggleable__label-arrow fitted\">onehot_encoding: TransformerWrapper</label><div class=\"sk-toggleable__content fitted\"><pre>TransformerWrapper(include=[&#x27;age&#x27;, &#x27;edu_level&#x27;, &#x27;fav_animals&#x27;, &#x27;fav_place&#x27;],\n",
       "                   transformer=OneHotEncoder(cols=[&#x27;age&#x27;, &#x27;edu_level&#x27;,\n",
       "                                                   &#x27;fav_animals&#x27;, &#x27;fav_place&#x27;],\n",
       "                                             handle_missing=&#x27;return_nan&#x27;,\n",
       "                                             use_cat_names=True))</pre></div> </div></div><div class=\"sk-parallel\"><div class=\"sk-parallel-item\"><div class=\"sk-item\"><div class=\"sk-label-container\"><div class=\"sk-label fitted sk-toggleable\"><input class=\"sk-toggleable__control sk-hidden--visually\" id=\"sk-estimator-id-12\" type=\"checkbox\" ><label for=\"sk-estimator-id-12\" class=\"sk-toggleable__label fitted sk-toggleable__label-arrow fitted\">transformer: OneHotEncoder</label><div class=\"sk-toggleable__content fitted\"><pre>OneHotEncoder(cols=[&#x27;age&#x27;, &#x27;edu_level&#x27;, &#x27;fav_animals&#x27;, &#x27;fav_place&#x27;],\n",
       "              handle_missing=&#x27;return_nan&#x27;, use_cat_names=True)</pre></div> </div></div><div class=\"sk-serial\"><div class=\"sk-item\"><div class=\"sk-estimator fitted sk-toggleable\"><input class=\"sk-toggleable__control sk-hidden--visually\" id=\"sk-estimator-id-13\" type=\"checkbox\" ><label for=\"sk-estimator-id-13\" class=\"sk-toggleable__label fitted sk-toggleable__label-arrow fitted\">OneHotEncoder</label><div class=\"sk-toggleable__content fitted\"><pre>OneHotEncoder(cols=[&#x27;age&#x27;, &#x27;edu_level&#x27;, &#x27;fav_animals&#x27;, &#x27;fav_place&#x27;],\n",
       "              handle_missing=&#x27;return_nan&#x27;, use_cat_names=True)</pre></div> </div></div></div></div></div></div></div><div class=\"sk-item\"><div class=\"sk-estimator fitted sk-toggleable\"><input class=\"sk-toggleable__control sk-hidden--visually\" id=\"sk-estimator-id-14\" type=\"checkbox\" ><label for=\"sk-estimator-id-14\" class=\"sk-toggleable__label fitted sk-toggleable__label-arrow fitted\">&nbsp;KMeans<a class=\"sk-estimator-doc-link fitted\" rel=\"noreferrer\" target=\"_blank\" href=\"https://scikit-learn.org/1.4/modules/generated/sklearn.cluster.KMeans.html\">?<span>Documentation for KMeans</span></a></label><div class=\"sk-toggleable__content fitted\"><pre>KMeans(random_state=123)</pre></div> </div></div></div></div></div></div>"
      ],
      "text/plain": [
       "Pipeline(memory=FastMemory(location=C:\\Users\\krzys\\AppData\\Local\\Temp\\joblib),\n",
       "         steps=[('numerical_imputer',\n",
       "                 TransformerWrapper(include=[], transformer=SimpleImputer())),\n",
       "                ('categorical_imputer',\n",
       "                 TransformerWrapper(include=['age', 'edu_level', 'fav_animals',\n",
       "                                             'fav_place', 'gender'],\n",
       "                                    transformer=SimpleImputer(strategy='most_frequent'))),\n",
       "                ('ordinal_encoding',\n",
       "                 Trans...\n",
       "                                                               mapping=[{'col': 'gender',\n",
       "                                                                         'data_type': dtype('O'),\n",
       "                                                                         'mapping': Kobieta      0\n",
       "Mężczyzna    1\n",
       "NaN         -1\n",
       "dtype: int64}]))),\n",
       "                ('onehot_encoding',\n",
       "                 TransformerWrapper(include=['age', 'edu_level', 'fav_animals',\n",
       "                                             'fav_place'],\n",
       "                                    transformer=OneHotEncoder(cols=['age',\n",
       "                                                                    'edu_level',\n",
       "                                                                    'fav_animals',\n",
       "                                                                    'fav_place'],\n",
       "                                                              handle_missing='return_nan',\n",
       "                                                              use_cat_names=True))),\n",
       "                ('trained_model', KMeans(random_state=123))])"
      ]
     },
     "execution_count": 15,
     "metadata": {},
     "output_type": "execute_result"
    }
   ],
   "source": [
    "kmeans_pipeline = load_model('welcome_survey_clustering_pipeline_v2')\n",
    "kmeans_pipeline"
   ]
  },
  {
   "cell_type": "code",
   "execution_count": 16,
   "metadata": {},
   "outputs": [],
   "source": [
    "predict_df = pd.DataFrame([\n",
    "    {\n",
    "        \"age\": \"45-54\",  # '<18', '25-34', '45-54', '35-44', '18-24', '>=65', '55-64', 'unknown'\n",
    "        \"edu_level\": 'Średnie',  # 'Podstawowe', 'Średnie', 'Wyższe'\n",
    "        \"fav_animals\": 'Brak ulubionych',  # 'Brak ulubionych', 'Psy', 'Koty', 'Inne', 'Koty i Psy'\n",
    "        \"fav_place\": 'W lesie',  # 'Nad wodą', 'W lesie', 'W górach', 'Inne'\n",
    "        \"gender\": 'Kobieta',  # 'Mężczyzna', 'Kobieta'\n",
    "    }\n",
    "])"
   ]
  },
  {
   "cell_type": "code",
   "execution_count": 17,
   "metadata": {},
   "outputs": [
    {
     "data": {
      "text/plain": [
       "0    Cluster 4\n",
       "Name: Cluster, dtype: object"
      ]
     },
     "execution_count": 17,
     "metadata": {},
     "output_type": "execute_result"
    }
   ],
   "source": [
    "predict_with_clusters_df = predict_model(kmeans_pipeline, data=predict_df)\n",
    "predict_with_clusters_df[\"Cluster\"]"
   ]
  },
  {
   "cell_type": "code",
   "execution_count": null,
   "metadata": {},
   "outputs": [],
   "source": []
  }
 ],
 "metadata": {
  "kernelspec": {
   "display_name": "Python 3 (ipykernel)",
   "language": "python",
   "name": "python3"
  },
  "language_info": {
   "codemirror_mode": {
    "name": "ipython",
    "version": 3
   },
   "file_extension": ".py",
   "mimetype": "text/x-python",
   "name": "python",
   "nbconvert_exporter": "python",
   "pygments_lexer": "ipython3",
   "version": "3.11.9"
  }
 },
 "nbformat": 4,
 "nbformat_minor": 4
}
